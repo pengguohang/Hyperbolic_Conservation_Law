{
 "cells": [
  {
   "cell_type": "code",
   "execution_count": 1,
   "metadata": {},
   "outputs": [],
   "source": [
    "import numpy as np\n",
    "import torch\n",
    "import torch.nn as nn\n",
    "import matplotlib.pyplot as plt\n",
    "import random\n",
    "from torch.optim import LBFGS\n",
    "from tqdm import tqdm\n",
    "import scipy.io\n",
    "import sys\n",
    "\n",
    "sys.path.append(\"../\")\n",
    "sys.path.append(\"../..\")\n",
    "from util import *\n",
    "from model.pinn import *\n",
    "\n",
    "# 无粘Burgers方程: u_t + u*(u_x1 + u_x2) = 0\n",
    "# IC:u(x, 0) = 1, x ∈ [0, 1/2]^2; 0, otherwise\n",
    "# BC:u(0, x2, t) = 1, x2 < (t+1)/2, t∈[0,1]; 0, otherwise\n",
    "# BC:u(x1, 0, t) = 1, x1 < (t+1)/2, t∈[0,1]; 0, otherwise\n",
    "\n",
    "# exact solution:\n",
    "# u(x, t) = 1, x∈[0, (t+1)/2]^2, t∈[0,1]; 0, otherwise"
   ]
  },
  {
   "cell_type": "markdown",
   "metadata": {},
   "source": [
    "# 构造burgers\n",
    "\n",
    "无粘Burgers方程: u_t + u*u_x = 0, [-1, 1]*[0, 0.5]\n",
    "\n",
    "IC:u(x, 0) = 1, x<=0; u(x, 0) = -1, x>0\n",
    "\n",
    "BC:u(0, t) = u(2π, t)"
   ]
  },
  {
   "cell_type": "code",
   "execution_count": null,
   "metadata": {},
   "outputs": [],
   "source": [
    "def get_data(x_range, y_range, x_num, y_num):\n",
    "    # 在[x_range]*[y_range]区域采样\n",
    "    x = np.linspace(x_range[0], x_range[1], x_num)  # [x_range0, x_range1]\n",
    "    t = np.linspace(y_range[0], y_range[1], y_num)  # [y_range0, y_range1]\n",
    "    \n",
    "    x_mesh, t_mesh = np.meshgrid(x,t)\n",
    "    data = np.concatenate((np.expand_dims(x_mesh, -1), np.expand_dims(t_mesh, -1)), axis=-1)\n",
    "    \n",
    "    b_init = data[0,:,:]  # 初始时刻\n",
    "    b_end = data[-1,:,:]\n",
    "    b_left = data[:,0,:]\n",
    "    b_right = data[:,-1,:]\n",
    "    res = data.reshape(-1,2)\n",
    "\n",
    "    return res, b_init, b_end, b_left, b_right"
   ]
  },
  {
   "cell_type": "code",
   "execution_count": 14,
   "metadata": {},
   "outputs": [
    {
     "name": "stdout",
     "output_type": "stream",
     "text": [
      "[0.   0.25 0.5  0.75 1.  ]\n",
      "(5, 5, 10, 3)\n"
     ]
    }
   ],
   "source": [
    "def get_data(x_range, y_range, x_num, y_num):\n",
    "    # 在[0,X]^2*[0,T]区域采样\n",
    "    x1 = np.linspace(x_range[0], x_range[1], x_num)  # [x_range0, x_range1]\n",
    "    x2 = np.linspace(x_range[0], x_range[1], x_num)  # [x_range0, x_range1]\n",
    "    t = np.linspace(y_range[0], y_range[1], y_num)  # [y_range0, y_range1]\n",
    "    print(x1)\n",
    "    \n",
    "    x1_mesh, x2_mesh, t_mesh = np.meshgrid(x1, x2, t, indexing='ij')\n",
    "    data = np.stack((x1_mesh, x2_mesh, t_mesh), axis=-1)  # (x1_num, x2_num, t_num, 3)\n",
    "    print(data.shape)\n",
    "\n",
    "    b_init = data[:, :, 0, :]  # 初始时刻\n",
    "    b_end = data[:, :, -1, :]  # 初始时刻\n",
    "    b_x1_left = data[0, ...]\n",
    "    b_x2_left = data[-1, ...]\n",
    "    res = data.reshape(-1, 3)\n",
    "    \n",
    "    return res, b_init, b_end, b_x1_left, b_x2_left\n",
    "\n",
    "x_range = [0, 1]\n",
    "y_range = [0, 2]\n",
    "x_num = 5\n",
    "y_num = 10\n",
    "\n",
    "res, b_init, b_end, b_x1, b_x2 = get_data(x_range, y_range, x_num, y_num)\n",
    "# print(b_init)  # 输出: (250, 3)\n",
    "# print(b_x1)  # 输出前5个样本点"
   ]
  },
  {
   "cell_type": "code",
   "execution_count": null,
   "metadata": {},
   "outputs": [],
   "source": [
    "import numpy as np\n",
    "import matplotlib.pyplot as plt\n",
    "\n",
    "# 假设 u 是一个 (x_num, x_num, t_num) 形状的三维数组\n",
    "x_num = 100\n",
    "t_num = 50\n",
    "x1 = np.linspace(-1, 7, x_num)\n",
    "x2 = np.linspace(0, 7, x_num)\n",
    "t = np.linspace(0, 10, t_num)\n",
    "\n",
    "# 生成一个示例的三维数组 u\n",
    "# 这里我们用一个简单的函数生成示例数据\n",
    "u = np.sin(x1[:, None, None]) * np.cos(x2[None, :, None]) * np.exp(-t[None, None, :])\n",
    "\n",
    "# 选择一个特定的时间 t 来展示\n",
    "t_index = 10  # 例如，选择第 10 个时间点\n",
    "u_slice = u[:, :, t_index]\n",
    "\n",
    "# 绘制图像\n",
    "plt.figure(figsize=(5, 5))\n",
    "plt.imshow(u_slice, extent=[-1, 7, 0, 7], aspect='auto', origin='lower')\n",
    "plt.xlabel('x1')\n",
    "plt.ylabel('x2')\n",
    "plt.title(f'u(x1, x2) at t={t[t_index]:.2f}')\n",
    "plt.colorbar(label='u(x1, x2, t)')\n",
    "plt.tight_layout()\n",
    "plt.show()"
   ]
  },
  {
   "cell_type": "code",
   "execution_count": 39,
   "metadata": {},
   "outputs": [
    {
     "name": "stdout",
     "output_type": "stream",
     "text": [
      "points:  (201, 201, 201, 3)\n",
      "u shape:  (201, 201, 201)\n"
     ]
    }
   ],
   "source": [
    "def get_data(x_range, y_range, x_num, y_num):\n",
    "    # 在[0,X]^2*[0,T]区域采样\n",
    "    x1 = np.linspace(x_range[0], x_range[1], x_num)  # [x_range0, x_range1]\n",
    "    x2 = np.linspace(x_range[0], x_range[1], x_num)  # [x_range0, x_range1]\n",
    "    t = np.linspace(y_range[0], y_range[1], y_num)  # [y_range0, y_range1]\n",
    "    \n",
    "    x1_mesh, x2_mesh, t_mesh = np.meshgrid(x1, x2, t, indexing='ij')\n",
    "    data = np.stack((x1_mesh, x2_mesh, t_mesh), axis=-1)  # (x1_num, x2_num, t_num, 3)\n",
    "\n",
    "    b_init = data[:, :, 0, :]  # 初始时刻\n",
    "    b_end = data[:, :, -1, :]  # 初始时刻\n",
    "    b_x1_left = data[0, ...]\n",
    "    b_x2_left = data[-1, ...]\n",
    "    res = data.reshape(-1, 3)\n",
    "    \n",
    "    return data\n",
    "\n",
    "def get_burgers(x1, x2, t):\n",
    "    ind11 = x1 < (t+1)/2\n",
    "    ind12 = x1 > 0\n",
    "    ind21 = x2 < (t+1)/2\n",
    "    ind22 = x2 > 0\n",
    "    ind31 = t <= 1\n",
    "    ind32 = t > 0\n",
    "    ind = ind11 & ind12 & ind21 & ind22 & ind31 & ind32\n",
    "\n",
    "    if ind :\n",
    "        return 1\n",
    "    else:\n",
    "        return 0\n",
    "\n",
    "\n",
    "X_SIZE = 201\n",
    "T_SIZE = 201\n",
    "\n",
    "data = get_data([0, 1], [1, 0], X_SIZE, T_SIZE)  # (201, 201, 201, 3)\n",
    "print('points: ', data.shape) \n",
    "# 计算解\n",
    "u = np.zeros((X_SIZE, X_SIZE, T_SIZE))\n",
    "print('u shape: ', u.shape)\n",
    "for i in range(X_SIZE):\n",
    "    for j in range(X_SIZE):\n",
    "        for k in range(T_SIZE):\n",
    "            u[i, j, k] = get_burgers(data[i, j, k, 0], data[i, j, k, 1], data[i, j, k, 2])\n",
    "\n",
    "\n",
    "\n",
    "# x = data[..., 0]\n",
    "# t = data[..., 1]\n",
    "# print(x.shape)\n",
    "\n",
    "# u = get_burgers(x, t)\n",
    "# print(u.shape)\n",
    "\n",
    "\n",
    "# # # 定义保存的字典，键名为 'u'\n",
    "data_dict = {'u': u}\n",
    "\n",
    "# # # 使用 scipy.io.savemat 保存为 .mat 文件\n",
    "scipy.io.savemat('2d_burgers.mat', data_dict)"
   ]
  },
  {
   "cell_type": "code",
   "execution_count": 38,
   "metadata": {},
   "outputs": [
    {
     "name": "stdout",
     "output_type": "stream",
     "text": [
      "(201, 201, 201)\n"
     ]
    },
    {
     "data": {
      "image/png": "[encoded data removed]",
      "text/plain": [
       "<Figure size 500x500 with 2 Axes>"
      ]
     },
     "metadata": {},
     "output_type": "display_data"
    }
   ],
   "source": [
    "print(u.shape)\n",
    "u_slice = u[:, :, 0]\n",
    "plt.figure(figsize=(5,5))\n",
    "plt.imshow(u_slice, extent=[0,1,0,1], aspect='auto')\n",
    "plt.xlabel('x1')\n",
    "plt.ylabel('x2')\n",
    "plt.title('t=0.6')\n",
    "plt.colorbar()\n",
    "plt.tight_layout()\n",
    "plt.show()"
   ]
  },
  {
   "cell_type": "code",
   "execution_count": 7,
   "metadata": {},
   "outputs": [
    {
     "name": "stdout",
     "output_type": "stream",
     "text": [
      "(201, 201)\n"
     ]
    },
    {
     "data": {
      "image/png": "[encoded data removed]",
      "text/plain": [
       "<Figure size 500x500 with 2 Axes>"
      ]
     },
     "metadata": {},
     "output_type": "display_data"
    }
   ],
   "source": [
    "path = '/home/pengguohang/python_test/HCL/pinnsformer/demo/Burgers_competition_2/burgers_c_0.5.mat'\n",
    "\n",
    "data = scipy.io.loadmat(path)\n",
    "u = data['u']\n",
    "print(u.shape)\n",
    "plt.figure(figsize=(5,5))\n",
    "plt.imshow(u, extent=[-1,7,0,7], aspect='auto')\n",
    "plt.xlabel('x')\n",
    "plt.ylabel('t')\n",
    "plt.title('u(x,t)')\n",
    "plt.colorbar()\n",
    "plt.tight_layout()\n",
    "plt.show()"
   ]
  },
  {
   "cell_type": "markdown",
   "metadata": {},
   "source": [
    "# 模型"
   ]
  },
  {
   "cell_type": "code",
   "execution_count": 2,
   "metadata": {},
   "outputs": [
    {
     "name": "stdout",
     "output_type": "stream",
     "text": [
      "torch.Size([40401, 1]) torch.Size([40401, 1])\n"
     ]
    }
   ],
   "source": [
    "def get_data(x_range, y_range, x_num, y_num):\n",
    "    # 在[x_range]*[y_range]区域采样\n",
    "    x = np.linspace(x_range[0], x_range[1], x_num)  # [x_range0, x_range1]\n",
    "    t = np.linspace(y_range[0], y_range[1], y_num)  # [y_range0, y_range1]\n",
    "    \n",
    "    x_mesh, t_mesh = np.meshgrid(x,t)\n",
    "    data = np.concatenate((np.expand_dims(x_mesh, -1), np.expand_dims(t_mesh, -1)), axis=-1)\n",
    "    \n",
    "    b_init = data[0,:,:]  # 初始时刻\n",
    "    b_end = data[-1,:,:]\n",
    "    b_left = data[:,0,:]\n",
    "    b_right = data[:,-1,:]\n",
    "    res = data.reshape(-1,2)\n",
    "\n",
    "    return res, b_init, b_end, b_left, b_right\n",
    "\n",
    "res, _, _, _, _ = get_data([-1, 7], [10, 0], 201, 201) \n",
    "res = torch.tensor(res, dtype=torch.float32, requires_grad=True)\n",
    "x_res, t_res = res[:,0:1], res[:,1:2]\n",
    "print(x_res.shape, t_res.shape)"
   ]
  },
  {
   "cell_type": "code",
   "execution_count": 3,
   "metadata": {},
   "outputs": [
    {
     "name": "stdout",
     "output_type": "stream",
     "text": [
      "src:  torch.Size([40401, 2])\n",
      "x:  torch.Size([40401, 2])\n"
     ]
    }
   ],
   "source": [
    "acti = 'Tanh'\n",
    "model = Resnet(in_dim=2, hidden_dim=128, out_dim=1, num_layer=4, acti=acti)\n",
    "\n",
    "u = model(x_res, t_res) "
   ]
  }
 ],
 "metadata": {
  "kernelspec": {
   "display_name": "py3.8",
   "language": "python",
   "name": "python3"
  },
  "language_info": {
   "codemirror_mode": {
    "name": "ipython",
    "version": 3
   },
   "file_extension": ".py",
   "mimetype": "text/x-python",
   "name": "python",
   "nbconvert_exporter": "python",
   "pygments_lexer": "ipython3",
   "version": "3.8.18"
  }
 },
 "nbformat": 4,
 "nbformat_minor": 2
}
