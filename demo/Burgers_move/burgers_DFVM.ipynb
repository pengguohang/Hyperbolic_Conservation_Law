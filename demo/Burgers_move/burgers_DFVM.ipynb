{
 "cells": [
  {
   "cell_type": "code",
   "execution_count": 45,
   "metadata": {},
   "outputs": [],
   "source": [
    "import numpy as np\n",
    "import torch\n",
    "import torch.nn as nn\n",
    "import matplotlib.pyplot as plt\n",
    "import random\n",
    "from torch.optim import LBFGS\n",
    "from tqdm import tqdm\n",
    "import scipy.io\n",
    "import sys\n",
    "import h5py\n",
    "from torch.optim import lr_scheduler\n",
    "\n",
    "\n",
    "sys.path.append(\"../../\")\n",
    "from metric import *\n",
    "from util import *\n",
    "from model.pinn import PINNs, MLP\n"
   ]
  },
  {
   "cell_type": "code",
   "execution_count": 46,
   "metadata": {},
   "outputs": [],
   "source": [
    "seed = 0\n",
    "np.random.seed(seed)\n",
    "random.seed(seed)\n",
    "torch.manual_seed(seed)\n",
    "torch.cuda.manual_seed(seed)\n",
    "\n",
    "device = torch.device(\"cuda:1\" if torch.cuda.is_available() else \"cpu\")\n",
    "\n",
    "def init_weights(m):\n",
    "    if isinstance(m, nn.Linear):\n",
    "        torch.nn.init.xavier_uniform(m.weight)\n",
    "        m.bias.data.fill_(0.01)"
   ]
  },
  {
   "cell_type": "code",
   "execution_count": 47,
   "metadata": {},
   "outputs": [
    {
     "name": "stdout",
     "output_type": "stream",
     "text": [
      "x_inL:  torch.Size([10201, 2])\n",
      "res shape:  torch.Size([10201, 2]) b_left shape:  torch.Size([101, 2]) b_right shape:  torch.Size([101, 2]) b_upper shape:  torch.Size([101, 2]) b_lower shape:  torch.Size([101, 2])\n"
     ]
    }
   ],
   "source": [
    "# get data\n",
    "# 几何区域：-1<=x<=1, 0<=t<=0.6\n",
    "# 均匀网格离散化：101*101\n",
    "# res: 所有散点坐标\n",
    "X_SIZE = 101\n",
    "T_SIZE = 101\n",
    "\n",
    "res, b_init, b_end, b_left, b_right = get_data([-1, 1], [0, 0.6], X_SIZE, T_SIZE) \n",
    "res_test, _, _, _, _ = get_data([-1, 1], [0, 0.6], X_SIZE, T_SIZE) \n",
    "\n",
    "res = torch.tensor(res, dtype=torch.float32, requires_grad=True).to(device)\n",
    "b_init = torch.tensor(b_init, dtype=torch.float32, requires_grad=True).to(device)  # init\n",
    "b_end = torch.tensor(b_end, dtype=torch.float32, requires_grad=True).to(device)\n",
    "b_left = torch.tensor(b_left, dtype=torch.float32, requires_grad=True).to(device)  # right\n",
    "b_right = torch.tensor(b_right, dtype=torch.float32, requires_grad=True).to(device)  # left\n",
    "\n",
    "# 分别提取散点的x t坐标 --> 列表\n",
    "x_res, t_res = res[:,0:1], res[:,1:2]\n",
    "x_init, t_init = b_init[:,0:1], b_init[:,1:2]\n",
    "x_end, t_end = b_end[:,0:1], b_end[:,1:2]\n",
    "x_left, t_left = b_left[:,0:1], b_left[:,1:2]\n",
    "x_right, t_right = b_right[:,0:1], b_right[:,1:2]\n",
    "\n",
    "# 有限体积采样边界点\n",
    "DFVM_solver = DFVMsolver(1, device)\n",
    "X_inL, X_inR = DFVM_solver.get_vol_data2(res)\n",
    "X_inL  = X_inL.requires_grad_(True).to(device)  # 内部点的CV边界采样点\n",
    "X_inR  = X_inR.requires_grad_(True).to(device)\n",
    "\n",
    "print('x_inL: ', X_inL.shape)\n",
    "\n",
    "print('res shape: ', res.shape, 'b_left shape: ', b_left.shape, 'b_right shape: ', b_right.shape, 'b_upper shape: ', b_init.shape, 'b_lower shape: ', b_end.shape)"
   ]
  },
  {
   "cell_type": "code",
   "execution_count": 48,
   "metadata": {},
   "outputs": [
    {
     "name": "stdout",
     "output_type": "stream",
     "text": [
      "PINNs(\n",
      "  (linear): Sequential(\n",
      "    (0): Linear(in_features=2, out_features=128, bias=True)\n",
      "    (1): Tanh()\n",
      "    (2): Linear(in_features=128, out_features=128, bias=True)\n",
      "    (3): Tanh()\n",
      "    (4): Linear(in_features=128, out_features=128, bias=True)\n",
      "    (5): Tanh()\n",
      "    (6): Linear(in_features=128, out_features=128, bias=True)\n",
      "    (7): Tanh()\n",
      "    (8): Linear(in_features=128, out_features=128, bias=True)\n",
      "    (9): Tanh()\n",
      "    (10): Linear(in_features=128, out_features=128, bias=True)\n",
      "    (11): Tanh()\n",
      "    (12): Linear(in_features=128, out_features=128, bias=True)\n",
      "    (13): Tanh()\n",
      "    (14): Linear(in_features=128, out_features=1, bias=True)\n",
      "  )\n",
      ")\n",
      "99585\n"
     ]
    },
    {
     "name": "stderr",
     "output_type": "stream",
     "text": [
      "/tmp/ipykernel_844359/3342654418.py:11: UserWarning: nn.init.xavier_uniform is now deprecated in favor of nn.init.xavier_uniform_.\n",
      "  torch.nn.init.xavier_uniform(m.weight)\n",
      "/home/pengguohang/anaconda3/envs/py3.8/lib/python3.8/site-packages/torch/optim/lr_scheduler.py:28: UserWarning: The verbose parameter is deprecated. Please use get_last_lr() to access the learning rate.\n",
      "  warnings.warn(\"The verbose parameter is deprecated. Please use get_last_lr() \"\n"
     ]
    }
   ],
   "source": [
    "# Train PINNs -- MLP\n",
    "model = PINNs(in_dim=2, hidden_dim=128, out_dim=1, num_layer=8).to(device)\n",
    "\n",
    "model.apply(init_weights)\n",
    "# optim = LBFGS(model.parameters(), line_search_fn='strong_wolfe')\n",
    "optim = torch.optim.Adam(model.parameters(), lr=1e-3, betas=(0.9, 0.999))\n",
    "scheduler = lr_scheduler.ExponentialLR(optim, gamma=0.9, verbose=True)\n",
    "\n",
    "print(model)\n",
    "print(get_n_params(model))  # 总的参数量"
   ]
  },
  {
   "cell_type": "code",
   "execution_count": 49,
   "metadata": {},
   "outputs": [
    {
     "name": "stderr",
     "output_type": "stream",
     "text": [
      "  1%|          | 6/1000 [00:00<00:19, 51.28it/s]"
     ]
    },
    {
     "name": "stdout",
     "output_type": "stream",
     "text": [
      "Iter 0, res: 5.23634e-12, Lossic: 5.14551e-01, Lossbc: 9.54570e-01\n"
     ]
    },
    {
     "name": "stderr",
     "output_type": "stream",
     "text": [
      "100%|██████████| 1000/1000 [00:27<00:00, 36.90it/s]\n"
     ]
    }
   ],
   "source": [
    "loss_track = []\n",
    "model.train()\n",
    "step_size = 5000\n",
    "\n",
    "def jacobian(y, x, i, j):\n",
    "    '''\n",
    "    input: y[], x[]\n",
    "    '''\n",
    "    y = y[:,i]\n",
    "    grad = torch.autograd.grad(y, x, grad_outputs=torch.ones_like(y), create_graph=True, retain_graph=True)[0][:,j]  # y 相对于 x 的第 j 维的偏导数\n",
    "    return grad.reshape(-1, 1)\n",
    "\n",
    "def pde_burgers1D(x, model, nu):\n",
    "    '''\n",
    "    u_t + uu_x = 0\n",
    "\n",
    "    input: x:[x, xL, xR] [内部点、CV左边界点、CV右边界点]\n",
    "    '''\n",
    "    x, t, xL, xR = x\n",
    "    y = model(x, t)\n",
    "    # print('in pde: ', y.shape, x.shape)\n",
    "    dy_x = jacobian(y, x, i=0, j=0)\n",
    "    dy_t = jacobian(y, t, i=0, j=0)\n",
    "    yL = model(xL[:, 0:1], t)\n",
    "    yR = model(xR[:, 0:1], t)\n",
    "    dyR_x = jacobian(yR, xR, i=0, j=0)\n",
    "    dyL_x = jacobian(yL, xL, i=0, j=0)\n",
    "    res = (dy_t + y * dy_x)*0.0002 - nu*(dyR_x - dyL_x)  # 控制体积守恒性质\n",
    "    \n",
    "    return res.reshape(-1, 1)\n",
    "\n",
    "\n",
    "pde = lambda x, model: pde_burgers1D(x, model, 0.001)\n",
    "for i in tqdm(range(1000)):\n",
    "    optim.zero_grad()\n",
    "    \n",
    "    pred_init = model(x_init, t_init)  # init\n",
    "    pred_left = model(x_left, t_left)  # right\n",
    "    pred_right = model(x_right, t_right)  # left\n",
    "    \n",
    "    loss_res = torch.mean(pde((x_res, t_res, X_inL,X_inR), model)**2)\n",
    "    loss_ic = torch.mean(torch.where(x_init <= 0, (pred_init-1) ** 2, pred_init ** 2))  # 初值：u(x, 0) = 1, x<=0; u(x, 0) = 0, x>0\n",
    "    loss_bc = torch.mean((pred_left - 1) ** 2 + (pred_right) ** 2)\n",
    "\n",
    "    loss = loss_res + 100*loss_ic + loss_bc\n",
    "    \n",
    "    loss.backward()  # 反向传播\n",
    "\n",
    "    optim.step()  # 参数更新\n",
    "\n",
    "    if (i+1) % step_size == 0:\n",
    "        scheduler.step()\n",
    "\n",
    "    with torch.no_grad():\n",
    "        loss_track.append([loss_res.item(), loss_bc.item(), loss_ic.item()])\n",
    "    \n",
    "    if i % 5000 == 0:\n",
    "        print('Iter %d, res: %.5e, Lossic: %.5e, Lossbc: %.5e' % (i, loss_res.item(), loss_ic.item(), loss_bc.item()))"
   ]
  },
  {
   "cell_type": "code",
   "execution_count": 50,
   "metadata": {},
   "outputs": [
    {
     "name": "stdout",
     "output_type": "stream",
     "text": [
      "Loss Res: 0.000000, Loss_BC: 0.000002, Loss_IC: 0.000009\n",
      "Train Loss: 0.000012\n"
     ]
    }
   ],
   "source": [
    "print('Loss Res: {:4f}, Loss_BC: {:4f}, Loss_IC: {:4f}'.format(loss_track[-1][0], loss_track[-1][1], loss_track[-1][2]))\n",
    "print('Train Loss: {:4f}'.format(np.sum(loss_track[-1])))"
   ]
  },
  {
   "cell_type": "code",
   "execution_count": 57,
   "metadata": {},
   "outputs": [],
   "source": [
    "import pandas as pd\n",
    "import numpy as np\n",
    "import os\n",
    "\n",
    "def write_res(metrics, filename, tag, append=True):\n",
    "    # 创建DataFrame\n",
    "    df = pd.DataFrame()\n",
    "\n",
    "    # 获取第一个度量值列表的长度来确定维度\n",
    "    _, values = next(iter(metrics.items()))\n",
    "    dim = len(values)\n",
    "\n",
    "    # 遍历metrics字典中的所有度量值\n",
    "    for metric, values in metrics.items():\n",
    "        values = [x.item() if hasattr(x, 'item') else x for x in values]  # 处理可能存在的tensor\n",
    "        if \"field\" not in df.columns:\n",
    "            if dim > 1:\n",
    "                df.insert(0, 'field', [tag + \"_x\" + str(k) for k in range(dim)] + [tag + \"_mean\"] + [tag + \"_global\"])\n",
    "            else:\n",
    "                df.insert(0, 'field', [tag + \"_x\" + str(k) for k in range(dim)])\n",
    "\n",
    "        if dim > 1:\n",
    "            df[metric] = [*values] + [np.mean(values)] + [np.nan]  # 假设没有全局值\n",
    "        else:\n",
    "            df[metric] = [*values]\n",
    "\n",
    "    # 如果有平均推理时间或其他额外信息，可以在这里添加\n",
    "    # if \"Mean inference time\" in metrics:\n",
    "    #     df[\"Mean inference time\"] = [metrics[\"Mean inference time\"]]*len(df)\n",
    "\n",
    "    # 写入CSV文件\n",
    "    if append:\n",
    "        if os.path.exists(filename):\n",
    "            df.to_csv(filename, mode='a', header=False, index=False)\n",
    "        else:\n",
    "            df.to_csv(filename, index=False)\n",
    "    else:\n",
    "        df.to_csv(filename, index=False)\n",
    "\n",
    "# 示例调用\n",
    "metrics = {\n",
    "    'model_name': ['ModelB'],\n",
    "    'RL1': [0.95],\n",
    "    'RL2': [0.97],\n",
    "    'L2RE': [0.05],\n",
    "    'MaxE': [0.1],\n",
    "    'MSE': [0.005],\n",
    "    'RMSE': [0.07]\n",
    "}\n",
    "# write_res(metrics, './output.csv', 'test_tag')"
   ]
  },
  {
   "cell_type": "code",
   "execution_count": 51,
   "metadata": {},
   "outputs": [
    {
     "name": "stdout",
     "output_type": "stream",
     "text": [
      "torch.Size([10201, 1])\n",
      "(101, 101)\n",
      "{'model_name': ['DFVM'], 'RL1': [0.10785316996125027], 'RL2': [0.31371369075715483], 'L2RE': [tensor(9.7736)], 'MaxE': [tensor(0.1422)], 'MSE': [tensor(0.0565)], 'RMSE': [tensor(0.0619)]}\n"
     ]
    },
    {
     "data": {
      "image/png": "[encoded data removed]",
      "text/plain": [
       "<Figure size 400x300 with 2 Axes>"
      ]
     },
     "metadata": {},
     "output_type": "display_data"
    },
    {
     "data": {
      "image/png": "[encoded data removed]",
      "text/plain": [
       "<Figure size 400x300 with 2 Axes>"
      ]
     },
     "metadata": {},
     "output_type": "display_data"
    },
    {
     "data": {
      "image/png": "[encoded data removed]",
      "text/plain": [
       "<Figure size 500x500 with 1 Axes>"
      ]
     },
     "metadata": {},
     "output_type": "display_data"
    }
   ],
   "source": [
    "import pandas as pd\n",
    "import matplotlib.pyplot as plt\n",
    "import numpy as np\n",
    "\n",
    "def save_fig(res_test, folder_name, model_name, X_SIZE, T_SIZE, label_path='./burgers_move.mat'):\n",
    "\n",
    "    res_test = torch.tensor(res_test, dtype=torch.float32, requires_grad=True).to(device)\n",
    "    x_test, t_test = res_test[:,0:1], res_test[:,1:2]\n",
    "    print(t_test.shape)\n",
    "\n",
    "    mat = scipy.io.loadmat(label_path)\n",
    "    u = mat['u'].reshape(X_SIZE, T_SIZE)\n",
    "\n",
    "    with torch.no_grad():\n",
    "        pred = model(x_test, t_test)[:,0:1]\n",
    "        pred = pred.cpu().detach().numpy()\n",
    "    pred = pred.reshape(X_SIZE, T_SIZE)\n",
    "\n",
    "    print(pred.shape)\n",
    "\n",
    "    rl1 = np.sum(np.abs(u-pred)) / np.sum(np.abs(u))\n",
    "    rl2 = np.sqrt(np.sum((u-pred)**2) / np.sum(u**2))\n",
    "    L2re = L2RE(torch.tensor(u), torch.tensor(pred)).mean()\n",
    "    MaxE = MaxError(torch.tensor(u), torch.tensor(pred)).mean()\n",
    "    Mse = MSE(torch.tensor(u), torch.tensor(pred)).mean()\n",
    "    Rmse = RMSE(torch.tensor(u), torch.tensor(pred)).mean()\n",
    "    metrics = {\n",
    "    'model_name': [model_name],\n",
    "    'RL1': [rl1],\n",
    "    'RL2': [rl2],\n",
    "    'L2RE': [L2re],\n",
    "    'MaxE': [MaxE],\n",
    "    'MSE': [Mse],\n",
    "    'RMSE': [Rmse]}\n",
    "    df = pd.DataFrame(metrics)\n",
    "    df.to_csv('evaluation_metrics.csv', index=False)\n",
    "    print(metrics)\n",
    "\n",
    "    if not os.path.exists(f'./image/{folder_name}'):\n",
    "        os.makedirs(f'./image/{folder_name}')\n",
    "\n",
    "    plt.figure(figsize=(4,3))\n",
    "    plt.imshow(pred, extent=[-1,1,0.6,0], aspect='auto',  cmap='coolwarm')\n",
    "    plt.xlabel('x')\n",
    "    plt.ylabel('t')\n",
    "    plt.title('Prediction')\n",
    "    plt.colorbar()\n",
    "    plt.tight_layout()\n",
    "    plt.savefig(f'./image/{folder_name}/{model_name}_pred.png')\n",
    "\n",
    "    plt.figure(figsize=(4,3))\n",
    "    plt.imshow(np.abs(pred - u), extent=[-1, 1, 0.6, 0], aspect='auto',  cmap='coolwarm')\n",
    "    plt.xlabel('x')\n",
    "    plt.ylabel('t')\n",
    "    plt.title('Absolute Error')\n",
    "    plt.colorbar()\n",
    "    plt.tight_layout()\n",
    "    plt.savefig(f'./image/{folder_name}/{model_name}_error.png')\n",
    "\n",
    "    # 绘制t时刻的折线图\n",
    "    x = np.linspace(-1, 1, X_SIZE)\n",
    "    u_real = u[-1, :]\n",
    "    u_pred = pred[-1, :] \n",
    "\n",
    "    plt.figure(figsize=(5, 5))\n",
    "    plt.plot(x, u_real, label='u_real', color='blue')  # 实际值曲线\n",
    "    plt.plot(x, u_pred, label='u_pred', color='red', linestyle='--')  # 预测值曲线\n",
    "    plt.title('T s')\n",
    "    plt.xlabel('x')\n",
    "    plt.ylabel('u')\n",
    "    plt.legend()\n",
    "    plt.grid(False)\n",
    "    plt.savefig(f'./image/{folder_name}/{model_name}_T.png')\n",
    "\n",
    "folder_name = '1000'\n",
    "model_name = 'DFVM'\n",
    "save_fig(res_test, folder_name, model_name, X_SIZE, T_SIZE, label_path='./burgers_move.mat')"
   ]
  },
  {
   "cell_type": "code",
   "execution_count": 2,
   "metadata": {},
   "outputs": [
    {
     "data": {
      "text/plain": [
       "60.599999999999994"
      ]
     },
     "execution_count": 2,
     "metadata": {},
     "output_type": "execute_result"
    }
   ],
   "source": [
    "0.6/2 * 202"
   ]
  },
  {
   "cell_type": "code",
   "execution_count": 52,
   "metadata": {},
   "outputs": [],
   "source": [
    "# # Visualize PINNs \n",
    "# res_test = torch.tensor(res_test, dtype=torch.float32, requires_grad=True).to(device)\n",
    "# x_test, t_test = res_test[:,0:1], res_test[:,1:2]\n",
    "# print(t_test.shape)\n",
    "\n",
    "# mat = scipy.io.loadmat('./burgers_move.mat')\n",
    "# u = mat['u'].reshape(X_SIZE, T_SIZE)\n",
    "\n",
    "# with torch.no_grad():\n",
    "#     pred = model(x_test, t_test)[:,0:1]\n",
    "#     pred = pred.cpu().detach().numpy()\n",
    "# pred = pred.reshape(X_SIZE, T_SIZE)\n",
    "\n",
    "# print(pred.shape)\n",
    "\n",
    "# rl1 = np.sum(np.abs(u-pred)) / np.sum(np.abs(u))\n",
    "# rl2 = np.sqrt(np.sum((u-pred)**2) / np.sum(u**2))\n",
    "# print('relative L1 error: {:4f}'.format(rl1))\n",
    "# print('relative L2 error: {:4f}'.format(rl2))\n",
    "\n",
    "# L2re = L2RE(torch.tensor(u), torch.tensor(pred)).mean()\n",
    "# MaxE = MaxError(torch.tensor(u), torch.tensor(pred)).mean()\n",
    "# Mse = MSE(torch.tensor(u), torch.tensor(pred)).mean()\n",
    "# Rmse = RMSE(torch.tensor(u), torch.tensor(pred)).mean()\n",
    "# print(\"MSE: \", Mse.detach().cpu().numpy())\n",
    "# print(\"RMSE: \", Rmse.detach().cpu().numpy())\n",
    "# print(\"L2RE: \", L2re.detach().cpu().numpy())\n",
    "# print(\"MaxE: \", MaxE.detach().cpu().numpy())\n",
    "\n",
    "\n",
    "# plt.figure(figsize=(4,3))\n",
    "# plt.imshow(pred, extent=[-1,1,0.6,0], aspect='auto',  cmap='coolwarm')\n",
    "# plt.xlabel('x')\n",
    "# plt.ylabel('t')\n",
    "# plt.title('Prediction')\n",
    "# plt.colorbar()\n",
    "# plt.tight_layout()\n",
    "# plt.savefig('./image/newlayer_30000/dfvm_pred.png')\n",
    "# plt.show()\n",
    "\n",
    "# # 5000次学到的是稍微move一点（方向正确）\n",
    "# # 10000次学到的是稍微move一点（方向正确）\n",
    "# # 30000次学到了错误的移动\n",
    "\n",
    "# # 30000次 - newlayer 学到了正确的激波位置\n",
    "# # relative L1 error: 0.012138\n",
    "# # relative L2 error: 0.093352\n",
    "# # MSE:  0.0050043897\n",
    "# # RMSE:  0.00697051\n",
    "# # L2RE:  3.6744602\n",
    "# # MaxE:  0.12557389\n",
    "\n",
    "# # 100000次 - newlayer 没学到正确的激波位置\n",
    "# # relative L1 error: 0.114282\n",
    "# # relative L2 error: 0.329207\n",
    "# # MSE:  0.06223636\n",
    "# # RMSE:  0.06562748\n",
    "# # L2RE:  472.11273\n",
    "# # MaxE:  0.14218858"
   ]
  },
  {
   "cell_type": "code",
   "execution_count": 53,
   "metadata": {},
   "outputs": [],
   "source": [
    "# plt.figure(figsize=(4,3))\n",
    "# plt.imshow(u, extent=[-1, 1, 0.6, 0], aspect='auto',  cmap='coolwarm')\n",
    "# plt.xlabel('x')\n",
    "# plt.ylabel('t')\n",
    "# plt.title('Exact u(x,t)')\n",
    "# plt.colorbar()\n",
    "# plt.tight_layout()\n",
    "# plt.savefig('./image/exact.png')\n",
    "# plt.show()"
   ]
  },
  {
   "cell_type": "code",
   "execution_count": 54,
   "metadata": {},
   "outputs": [],
   "source": [
    "# plt.figure(figsize=(4,3))\n",
    "# plt.imshow(np.abs(pred - u), extent=[-1, 1, 0.6, 0], aspect='auto',  cmap='coolwarm')\n",
    "# plt.xlabel('x')\n",
    "# plt.ylabel('t')\n",
    "# plt.title('Absolute Error')\n",
    "# plt.colorbar()\n",
    "# plt.tight_layout()\n",
    "# plt.savefig('./image/newlayer_30000/dfvm_error.png')\n",
    "# plt.show()"
   ]
  },
  {
   "cell_type": "code",
   "execution_count": 55,
   "metadata": {},
   "outputs": [],
   "source": [
    "# # 绘制t时刻的折线图\n",
    "# print(u.shape)\n",
    "# import matplotlib.pyplot as plt\n",
    "# import numpy as np\n",
    "\n",
    "# # 假设的时间序列数据\n",
    "# x = np.linspace(-1, 1, 101)\n",
    "# u_real = u[-1, :]  # 实际值，例如使用正弦波\n",
    "# u_pred = pred[-1, :]  # 预测值，添加一些噪声\n",
    "\n",
    "# plt.figure(figsize=(5, 5))\n",
    "# plt.plot(x, u_real, label='u_real', color='blue')  # 实际值曲线\n",
    "# plt.plot(x, u_pred, label='u_pred', color='red', linestyle='--')  # 预测值曲线\n",
    "\n",
    "# plt.title('t=0.6 s')\n",
    "# plt.xlabel('x')\n",
    "# plt.ylabel('u')\n",
    "# plt.legend()\n",
    "# plt.grid(False)\n",
    "# plt.savefig('./image/newlayer_30000/dfvm_0.6.png')\n",
    "# plt.show()\n"
   ]
  }
 ],
 "metadata": {
  "kernelspec": {
   "display_name": "leo",
   "language": "python",
   "name": "python3"
  },
  "language_info": {
   "codemirror_mode": {
    "name": "ipython",
    "version": 3
   },
   "file_extension": ".py",
   "mimetype": "text/x-python",
   "name": "python",
   "nbconvert_exporter": "python",
   "pygments_lexer": "ipython3",
   "version": "3.8.18"
  },
  "orig_nbformat": 4
 },
 "nbformat": 4,
 "nbformat_minor": 2
}
