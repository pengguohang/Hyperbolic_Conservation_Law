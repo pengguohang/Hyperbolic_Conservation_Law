{
 "cells": [
  {
   "cell_type": "code",
   "execution_count": 41,
   "metadata": {},
   "outputs": [],
   "source": [
    "import numpy as np\n",
    "import torch\n",
    "import torch.nn as nn\n",
    "import matplotlib.pyplot as plt\n",
    "import random\n",
    "from torch.optim import LBFGS\n",
    "from tqdm import tqdm\n",
    "import scipy.io\n",
    "import sys\n",
    "import h5py\n",
    "from torch.optim import lr_scheduler\n",
    "\n",
    "sys.path.append(\"../\")\n",
    "sys.path.append(\"../..\")\n",
    "from metric import *\n",
    "from util import *\n",
    "from model.pinn import PINNs\n",
    "\n",
    "# 无粘Burgers方程: u_t + u*u_x = 0\n",
    "# IC:u(x, 0) = alpha + beta*sin(x)\n",
    "# BC:u(0, t) = u(2π, t)"
   ]
  },
  {
   "cell_type": "code",
   "execution_count": 42,
   "metadata": {},
   "outputs": [],
   "source": [
    "seed = 0\n",
    "np.random.seed(seed)\n",
    "random.seed(seed)\n",
    "torch.manual_seed(seed)\n",
    "torch.cuda.manual_seed(seed)\n",
    "\n",
    "device = 'cuda:1'\n",
    "\n",
    "def init_weights(m):\n",
    "    if isinstance(m, nn.Linear):\n",
    "        torch.nn.init.xavier_uniform(m.weight)\n",
    "        m.bias.data.fill_(0.01)"
   ]
  },
  {
   "cell_type": "code",
   "execution_count": 43,
   "metadata": {},
   "outputs": [
    {
     "name": "stdout",
     "output_type": "stream",
     "text": [
      "res shape:  torch.Size([10201, 2]) b_left shape:  torch.Size([101, 2]) b_right shape:  torch.Size([101, 2]) b_upper shape:  torch.Size([101, 2]) b_lower shape:  torch.Size([101, 2])\n"
     ]
    }
   ],
   "source": [
    "# get data\n",
    "# 几何区域：0<=x<=2*pi, 0<=t<=1\n",
    "# 离散化：101*101网格\n",
    "# res: 所有散点坐标\n",
    "# b_left, b_right, b_upper, b_lower：边界点坐标\n",
    "\n",
    "res, b_init, b_end, b_left, b_right = get_data([-1, 1], [0, 0.6], 101, 101) \n",
    "res_test, _, _, _, _ = get_data([-1, 1], [0, 0.6], 101, 101) \n",
    "\n",
    "res = torch.tensor(res, dtype=torch.float32, requires_grad=True).to(device)\n",
    "b_init = torch.tensor(b_init, dtype=torch.float32, requires_grad=True).to(device)  # init\n",
    "b_end = torch.tensor(b_end, dtype=torch.float32, requires_grad=True).to(device)\n",
    "b_left = torch.tensor(b_left, dtype=torch.float32, requires_grad=True).to(device)  # right\n",
    "b_right = torch.tensor(b_right, dtype=torch.float32, requires_grad=True).to(device)  # left\n",
    "\n",
    "# 分别提取散点的x t坐标 --> 列表\n",
    "x_res, t_res = res[:,0:1], res[:,1:2]\n",
    "x_init, t_init = b_init[:,0:1], b_init[:,1:2]\n",
    "x_end, t_end = b_end[:,0:1], b_end[:,1:2]\n",
    "x_left, t_left = b_left[:,0:1], b_left[:,1:2]\n",
    "x_right, t_right = b_right[:,0:1], b_right[:,1:2]\n",
    "\n",
    "print('res shape: ', res.shape, 'b_left shape: ', b_left.shape, 'b_right shape: ', b_right.shape, 'b_upper shape: ', b_init.shape, 'b_lower shape: ', b_end.shape)"
   ]
  },
  {
   "cell_type": "code",
   "execution_count": 44,
   "metadata": {},
   "outputs": [
    {
     "name": "stdout",
     "output_type": "stream",
     "text": [
      "PINNs(\n",
      "  (linear): Sequential(\n",
      "    (0): Linear(in_features=2, out_features=512, bias=True)\n",
      "    (1): Tanh()\n",
      "    (2): Linear(in_features=512, out_features=512, bias=True)\n",
      "    (3): Tanh()\n",
      "    (4): Linear(in_features=512, out_features=512, bias=True)\n",
      "    (5): Tanh()\n",
      "    (6): Linear(in_features=512, out_features=1, bias=True)\n",
      "  )\n",
      ")\n",
      "527361\n"
     ]
    },
    {
     "name": "stderr",
     "output_type": "stream",
     "text": [
      "/tmp/ipykernel_1182351/1660943584.py:11: UserWarning: nn.init.xavier_uniform is now deprecated in favor of nn.init.xavier_uniform_.\n",
      "  torch.nn.init.xavier_uniform(m.weight)\n"
     ]
    }
   ],
   "source": [
    "# Train PINNs -- MLP\n",
    "model = PINNs(in_dim=2, hidden_dim=512, out_dim=1, num_layer=4).to(device)\n",
    "\n",
    "model.apply(init_weights)\n",
    "# optim = LBFGS(model.parameters(), line_search_fn='strong_wolfe')\n",
    "optim = torch.optim.Adam(model.parameters(), lr=1e-3, betas=(0.9, 0.999))\n",
    "scheduler = lr_scheduler.ExponentialLR(optim, gamma=0.9, verbose=True)\n",
    "\n",
    "print(model)\n",
    "print(get_n_params(model))  # 总的参数量"
   ]
  },
  {
   "cell_type": "code",
   "execution_count": 45,
   "metadata": {},
   "outputs": [
    {
     "name": "stderr",
     "output_type": "stream",
     "text": [
      "  0%|          | 0/100000 [00:00<?, ?it/s]"
     ]
    },
    {
     "name": "stdout",
     "output_type": "stream",
     "text": [
      "Iter 0, res: 8.68415e-03, Lossic: 1.18004e+00, Lossbc: 2.71049e+00\n"
     ]
    },
    {
     "name": "stderr",
     "output_type": "stream",
     "text": [
      "  5%|▌         | 5007/100000 [01:39<31:25, 50.39it/s]"
     ]
    },
    {
     "name": "stdout",
     "output_type": "stream",
     "text": [
      "Iter 5000, res: 1.36075e-02, Lossic: 7.18828e-03, Lossbc: 3.05794e-04\n"
     ]
    },
    {
     "name": "stderr",
     "output_type": "stream",
     "text": [
      " 10%|█         | 10008/100000 [03:19<30:31, 49.14it/s]"
     ]
    },
    {
     "name": "stdout",
     "output_type": "stream",
     "text": [
      "Iter 10000, res: 2.73879e-02, Lossic: 1.74456e-02, Lossbc: 9.57211e-06\n"
     ]
    },
    {
     "name": "stderr",
     "output_type": "stream",
     "text": [
      " 15%|█▌        | 15010/100000 [05:05<31:13, 45.36it/s]"
     ]
    },
    {
     "name": "stdout",
     "output_type": "stream",
     "text": [
      "Iter 15000, res: 4.28013e-02, Lossic: 4.70032e-02, Lossbc: 2.33867e-04\n"
     ]
    },
    {
     "name": "stderr",
     "output_type": "stream",
     "text": [
      " 20%|██        | 20008/100000 [06:52<28:40, 46.49it/s]"
     ]
    },
    {
     "name": "stdout",
     "output_type": "stream",
     "text": [
      "Iter 20000, res: 7.95116e-03, Lossic: 1.01345e-02, Lossbc: 2.43841e-06\n"
     ]
    },
    {
     "name": "stderr",
     "output_type": "stream",
     "text": [
      " 25%|██▌       | 25006/100000 [08:39<26:08, 47.80it/s]"
     ]
    },
    {
     "name": "stdout",
     "output_type": "stream",
     "text": [
      "Iter 25000, res: 1.41355e-02, Lossic: 2.10530e-02, Lossbc: 2.97520e-05\n"
     ]
    },
    {
     "name": "stderr",
     "output_type": "stream",
     "text": [
      " 30%|███       | 30006/100000 [10:27<24:28, 47.67it/s]"
     ]
    },
    {
     "name": "stdout",
     "output_type": "stream",
     "text": [
      "Iter 30000, res: 2.12903e-02, Lossic: 1.88062e-02, Lossbc: 5.57524e-06\n"
     ]
    },
    {
     "name": "stderr",
     "output_type": "stream",
     "text": [
      " 35%|███▌      | 35009/100000 [12:17<23:10, 46.73it/s]"
     ]
    },
    {
     "name": "stdout",
     "output_type": "stream",
     "text": [
      "Iter 35000, res: 9.65651e-02, Lossic: 5.27336e-02, Lossbc: 1.12860e-03\n"
     ]
    },
    {
     "name": "stderr",
     "output_type": "stream",
     "text": [
      " 40%|████      | 40007/100000 [14:05<21:54, 45.65it/s]"
     ]
    },
    {
     "name": "stdout",
     "output_type": "stream",
     "text": [
      "Iter 40000, res: 9.65861e-03, Lossic: 1.09610e-02, Lossbc: 1.13548e-06\n"
     ]
    },
    {
     "name": "stderr",
     "output_type": "stream",
     "text": [
      " 45%|████▌     | 45010/100000 [15:53<19:43, 46.47it/s]"
     ]
    },
    {
     "name": "stdout",
     "output_type": "stream",
     "text": [
      "Iter 45000, res: 1.27466e-02, Lossic: 1.18353e-02, Lossbc: 2.86315e-06\n"
     ]
    },
    {
     "name": "stderr",
     "output_type": "stream",
     "text": [
      " 50%|█████     | 50010/100000 [17:41<18:16, 45.60it/s]"
     ]
    },
    {
     "name": "stdout",
     "output_type": "stream",
     "text": [
      "Iter 50000, res: 2.85358e-03, Lossic: 1.95304e-03, Lossbc: 1.54935e-06\n"
     ]
    },
    {
     "name": "stderr",
     "output_type": "stream",
     "text": [
      " 55%|█████▌    | 55010/100000 [19:29<16:23, 45.75it/s]"
     ]
    },
    {
     "name": "stdout",
     "output_type": "stream",
     "text": [
      "Iter 55000, res: 4.29763e-04, Lossic: 5.08392e-05, Lossbc: 4.21124e-07\n"
     ]
    },
    {
     "name": "stderr",
     "output_type": "stream",
     "text": [
      " 60%|██████    | 60009/100000 [21:17<13:54, 47.90it/s]"
     ]
    },
    {
     "name": "stdout",
     "output_type": "stream",
     "text": [
      "Iter 60000, res: 7.39474e-05, Lossic: 1.53732e-05, Lossbc: 2.81994e-05\n"
     ]
    },
    {
     "name": "stderr",
     "output_type": "stream",
     "text": [
      " 65%|██████▌   | 65006/100000 [23:05<12:41, 45.95it/s]"
     ]
    },
    {
     "name": "stdout",
     "output_type": "stream",
     "text": [
      "Iter 65000, res: 5.96985e-03, Lossic: 4.93741e-03, Lossbc: 2.24494e-05\n"
     ]
    },
    {
     "name": "stderr",
     "output_type": "stream",
     "text": [
      " 70%|███████   | 70007/100000 [24:55<11:18, 44.22it/s]"
     ]
    },
    {
     "name": "stdout",
     "output_type": "stream",
     "text": [
      "Iter 70000, res: 5.81871e-05, Lossic: 1.63459e-05, Lossbc: 4.28913e-06\n"
     ]
    },
    {
     "name": "stderr",
     "output_type": "stream",
     "text": [
      " 75%|███████▌  | 75009/100000 [26:43<08:46, 47.49it/s]"
     ]
    },
    {
     "name": "stdout",
     "output_type": "stream",
     "text": [
      "Iter 75000, res: 8.35760e-03, Lossic: 7.46892e-03, Lossbc: 6.26413e-06\n"
     ]
    },
    {
     "name": "stderr",
     "output_type": "stream",
     "text": [
      " 80%|████████  | 80007/100000 [28:30<07:05, 46.97it/s]"
     ]
    },
    {
     "name": "stdout",
     "output_type": "stream",
     "text": [
      "Iter 80000, res: 1.30924e-03, Lossic: 3.93103e-04, Lossbc: 6.91088e-08\n"
     ]
    },
    {
     "name": "stderr",
     "output_type": "stream",
     "text": [
      " 85%|████████▌ | 85010/100000 [30:18<05:28, 45.62it/s]"
     ]
    },
    {
     "name": "stdout",
     "output_type": "stream",
     "text": [
      "Iter 85000, res: 1.95915e-04, Lossic: 1.91410e-05, Lossbc: 3.99592e-06\n"
     ]
    },
    {
     "name": "stderr",
     "output_type": "stream",
     "text": [
      " 90%|█████████ | 90007/100000 [32:07<03:46, 44.12it/s]"
     ]
    },
    {
     "name": "stdout",
     "output_type": "stream",
     "text": [
      "Iter 90000, res: 3.66689e-05, Lossic: 5.09862e-06, Lossbc: 9.80012e-07\n"
     ]
    },
    {
     "name": "stderr",
     "output_type": "stream",
     "text": [
      " 95%|█████████▌| 95009/100000 [33:55<01:49, 45.63it/s]"
     ]
    },
    {
     "name": "stdout",
     "output_type": "stream",
     "text": [
      "Iter 95000, res: 3.72385e-05, Lossic: 8.73243e-06, Lossbc: 1.33344e-06\n"
     ]
    },
    {
     "name": "stderr",
     "output_type": "stream",
     "text": [
      "100%|██████████| 100000/100000 [35:44<00:00, 46.63it/s]\n"
     ]
    }
   ],
   "source": [
    "# trian\n",
    "loss_track = []\n",
    "step_size = 5000\n",
    "\n",
    "for i in tqdm(range(100000)):\n",
    "    optim.zero_grad()\n",
    "\n",
    "    pred_res = model(x_res, t_res)  # (n, 1)\n",
    "    pred_init = model(x_init, t_init)  # init\n",
    "    pred_left = model(x_left, t_left)  # right\n",
    "    pred_right = model(x_right, t_right)  # left\n",
    "\n",
    "    u = pred_res\n",
    "    u_x = torch.autograd.grad(pred_res, x_res, grad_outputs=torch.ones_like(pred_res), retain_graph=True, create_graph=True)[0]  # (n, 1)\n",
    "    u_t = torch.autograd.grad(pred_res, t_res, grad_outputs=torch.ones_like(pred_res), retain_graph=True, create_graph=True)[0]\n",
    "\n",
    "    # GA_PINNs：计算权重，乘以每个残差点的res\n",
    "    alpha = 1\n",
    "    beta = 1.25\n",
    "    Lambda = ( 1 / (1 +  alpha * torch.abs(u_x)**beta ) ) # Works fine\n",
    "\n",
    "    loss_res = torch.mean(Lambda * ((u_t + u * u_x) ** 2))\n",
    "    # loss_bc = torch.mean((pred_left - 1) ** 2 + (pred_right) ** 2)  # 边界：u(0, t) = 1, t>=0; u(1, t) = 0, t>=0\n",
    "    # loss_ic = torch.mean(torch.where(x_init <= 0, (pred_init-1) ** 2, pred_init ** 2))  # 初值：u(x, 0) = 1, x<=0; u(x, 0) = 0, x>0\n",
    "    # print('loss: ', loss_res, loss_bc, loss_ic)\n",
    "    loss_ic = torch.mean(torch.where(x_init <= 0, (pred_init-1) ** 2, (pred_init+1) ** 2))\n",
    "    loss_bcL = torch.mean((pred_left - 1) ** 2)\n",
    "    loss_bcR = torch.mean((pred_right + 1) ** 2)\n",
    "    loss_bc = loss_bcL + loss_bcR\n",
    "\n",
    "    loss_track.append([loss_res.item(), loss_bc.item(), loss_ic.item()])\n",
    "\n",
    "    loss = loss_res + loss_bc + loss_ic\n",
    "    \n",
    "    loss.backward()\n",
    "    optim.step()  # 参数更新\n",
    "\n",
    "    if (i+1) % step_size == 0:\n",
    "        scheduler.step()\n",
    "\n",
    "    with torch.no_grad():\n",
    "        loss_track.append([loss_res.item(), loss_bc.item(), loss_ic.item()])\n",
    "    \n",
    "    if i % 5000 == 0:\n",
    "        print('Iter %d, res: %.5e, Lossic: %.5e, Lossbc: %.5e' % (i, loss_res.item(), loss_ic.item(), loss_bc.item()))\n"
   ]
  },
  {
   "cell_type": "code",
   "execution_count": 46,
   "metadata": {},
   "outputs": [
    {
     "name": "stdout",
     "output_type": "stream",
     "text": [
      "(101, 101)\n",
      "relative L1 error: 0.097078\n",
      "relative L2 error: 0.310222\n",
      "MSE:  0.09623771\n",
      "RMSE:  0.09707847\n",
      "L2RE:  166.26746\n",
      "MaxE:  0.1021082\n"
     ]
    },
    {
     "data": {
      "image/png": "[encoded data removed]",
      "text/plain": [
       "<Figure size 400x300 with 2 Axes>"
      ]
     },
     "metadata": {},
     "output_type": "display_data"
    }
   ],
   "source": [
    "# Visualize PINNs \n",
    "X_SIZE = 101\n",
    "T_SIZE = 101\n",
    "\n",
    "res_test = torch.tensor(res_test, dtype=torch.float32, requires_grad=True).to(device)\n",
    "x_test, t_test = res_test[:,0:1], res_test[:,1:2]\n",
    "\n",
    "mat = scipy.io.loadmat('./burgers.mat')\n",
    "u = mat['u'].reshape(X_SIZE, T_SIZE)\n",
    "\n",
    "with torch.no_grad():\n",
    "    pred = model(x_test, t_test)[:,0:1]\n",
    "    pred = pred.cpu().detach().numpy()\n",
    "pred = pred.reshape(X_SIZE, T_SIZE)\n",
    "\n",
    "print(pred.shape)\n",
    "\n",
    "rl1 = np.sum(np.abs(u-pred)) / np.sum(np.abs(u))\n",
    "rl2 = np.sqrt(np.sum((u-pred)**2) / np.sum(u**2))\n",
    "print('relative L1 error: {:4f}'.format(rl1))\n",
    "print('relative L2 error: {:4f}'.format(rl2))\n",
    "\n",
    "L2re = L2RE(torch.tensor(u), torch.tensor(pred)).mean()\n",
    "MaxE = MaxError(torch.tensor(u), torch.tensor(pred)).mean()\n",
    "Mse = MSE(torch.tensor(u), torch.tensor(pred)).mean()\n",
    "Rmse = RMSE(torch.tensor(u), torch.tensor(pred)).mean()\n",
    "print(\"MSE: \", Mse.detach().cpu().numpy())\n",
    "print(\"RMSE: \", Rmse.detach().cpu().numpy())\n",
    "print(\"L2RE: \", L2re.detach().cpu().numpy())\n",
    "print(\"MaxE: \", MaxE.detach().cpu().numpy())\n",
    "\n",
    "\n",
    "plt.figure(figsize=(4,3))\n",
    "plt.imshow(pred, extent=[-1,1,0.6,0], aspect='auto',  cmap='coolwarm')\n",
    "plt.xlabel('x')\n",
    "plt.ylabel('t')\n",
    "plt.title('Prediction')\n",
    "plt.colorbar()\n",
    "plt.tight_layout()\n",
    "plt.savefig('./image/ga_pinn_pred.png')\n",
    "plt.show()\n",
    "\n",
    "# relative L1 error: 0.046801\n",
    "# relative L2 error: 0.151278\n",
    "# MSE:  0.013141892\n",
    "# RMSE:  0.026875637\n",
    "# L2RE:  1.0096555\n",
    "# MaxE:  0.133943"
   ]
  },
  {
   "cell_type": "code",
   "execution_count": 47,
   "metadata": {},
   "outputs": [
    {
     "data": {
      "image/png": "[encoded data removed]",
      "text/plain": [
       "<Figure size 400x300 with 2 Axes>"
      ]
     },
     "metadata": {},
     "output_type": "display_data"
    }
   ],
   "source": [
    "plt.figure(figsize=(4,3))\n",
    "plt.imshow(u, extent=[-1,1,0.6,0], aspect='auto',  cmap='coolwarm')\n",
    "plt.xlabel('x')\n",
    "plt.ylabel('t')\n",
    "plt.title('Exact u(x,t)')\n",
    "plt.colorbar()\n",
    "plt.tight_layout()\n",
    "plt.savefig('./image/exact.png')\n",
    "plt.show()"
   ]
  },
  {
   "cell_type": "code",
   "execution_count": 48,
   "metadata": {},
   "outputs": [
    {
     "data": {
      "image/png": "[encoded data removed]",
      "text/plain": [
       "<Figure size 400x300 with 2 Axes>"
      ]
     },
     "metadata": {},
     "output_type": "display_data"
    }
   ],
   "source": [
    "plt.figure(figsize=(4,3))\n",
    "plt.imshow(np.abs(pred - u), extent=[-1,1,0.6,0], aspect='auto',  cmap='coolwarm')\n",
    "plt.xlabel('x')\n",
    "plt.ylabel('t')\n",
    "plt.title('Absolute Error')\n",
    "plt.colorbar()\n",
    "plt.tight_layout()\n",
    "plt.savefig('./image/GApinns_error.png')\n",
    "plt.show()"
   ]
  },
  {
   "cell_type": "code",
   "execution_count": 49,
   "metadata": {},
   "outputs": [
    {
     "name": "stdout",
     "output_type": "stream",
     "text": [
      "(101, 101)\n"
     ]
    },
    {
     "data": {
      "image/png": "[encoded data removed]",
      "text/plain": [
       "<Figure size 500x500 with 1 Axes>"
      ]
     },
     "metadata": {},
     "output_type": "display_data"
    }
   ],
   "source": [
    "# 绘制t时刻的折线图\n",
    "print(u.shape)\n",
    "import matplotlib.pyplot as plt\n",
    "import numpy as np\n",
    "\n",
    "# 假设的时间序列数据\n",
    "x = np.linspace(-1, 1, 101)\n",
    "u_real = u[-1, :]  # 实际值，例如使用正弦波\n",
    "u_pred = pred[-1, :]  # 预测值，添加一些噪声\n",
    "\n",
    "plt.figure(figsize=(5, 5))\n",
    "plt.plot(x, u_real, label='u_real', color='blue')  # 实际值曲线\n",
    "plt.plot(x, u_pred, label='u_pred', color='red', linestyle='--')  # 预测值曲线\n",
    "\n",
    "plt.title('t=0.6 s')\n",
    "plt.xlabel('x')\n",
    "plt.ylabel('u')\n",
    "plt.legend()\n",
    "plt.grid(False)\n",
    "plt.savefig('./image/GApinns_0.6.png')\n",
    "plt.show()\n"
   ]
  }
 ],
 "metadata": {
  "kernelspec": {
   "display_name": "leo",
   "language": "python",
   "name": "python3"
  },
  "language_info": {
   "codemirror_mode": {
    "name": "ipython",
    "version": 3
   },
   "file_extension": ".py",
   "mimetype": "text/x-python",
   "name": "python",
   "nbconvert_exporter": "python",
   "pygments_lexer": "ipython3",
   "version": "3.8.18"
  },
  "orig_nbformat": 4
 },
 "nbformat": 4,
 "nbformat_minor": 2
}
