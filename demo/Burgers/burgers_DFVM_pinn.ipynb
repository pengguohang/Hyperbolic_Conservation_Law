{
 "cells": [
  {
   "cell_type": "code",
   "execution_count": 65,
   "metadata": {},
   "outputs": [],
   "source": [
    "import numpy as np\n",
    "import torch\n",
    "import torch.nn as nn\n",
    "import matplotlib.pyplot as plt\n",
    "import random\n",
    "from torch.optim import LBFGS\n",
    "from tqdm import tqdm\n",
    "import scipy.io\n",
    "import sys\n",
    "import h5py\n",
    "from torch.optim import lr_scheduler\n",
    "\n",
    "\n",
    "sys.path.append(\"../../\")\n",
    "from metric import *\n",
    "from util import *\n",
    "from model.pinn import PINNs, MLP\n"
   ]
  },
  {
   "cell_type": "code",
   "execution_count": 66,
   "metadata": {},
   "outputs": [],
   "source": [
    "seed = 0\n",
    "np.random.seed(seed)\n",
    "random.seed(seed)\n",
    "torch.manual_seed(seed)\n",
    "torch.cuda.manual_seed(seed)\n",
    "\n",
    "device = torch.device(\"cuda:2\" if torch.cuda.is_available() else \"cpu\")\n",
    "\n",
    "def init_weights(m):\n",
    "    if isinstance(m, nn.Linear):\n",
    "        torch.nn.init.xavier_uniform(m.weight)\n",
    "        m.bias.data.fill_(0.01)"
   ]
  },
  {
   "cell_type": "code",
   "execution_count": 67,
   "metadata": {},
   "outputs": [
    {
     "name": "stdout",
     "output_type": "stream",
     "text": [
      "x_inL:  torch.Size([10201, 2])\n",
      "res shape:  torch.Size([10201, 2]) b_left shape:  torch.Size([101, 2]) b_right shape:  torch.Size([101, 2]) b_upper shape:  torch.Size([101, 2]) b_lower shape:  torch.Size([101, 2])\n"
     ]
    }
   ],
   "source": [
    "# get data\n",
    "# 几何区域：-1<=x<=1, 0<=t<=0.6\n",
    "# 均匀网格离散化：101*101\n",
    "# res: 所有散点坐标\n",
    "X_SIZE = 101\n",
    "T_SIZE = 101\n",
    "\n",
    "res, b_init, b_end, b_left, b_right = get_data([-1, 1], [0, 0.6], X_SIZE, T_SIZE) \n",
    "res_test, _, _, _, _ = get_data([-1, 1], [0, 0.6], X_SIZE, T_SIZE) \n",
    "\n",
    "res = torch.tensor(res, dtype=torch.float32, requires_grad=True).to(device)\n",
    "b_init = torch.tensor(b_init, dtype=torch.float32, requires_grad=True).to(device)  # init\n",
    "b_end = torch.tensor(b_end, dtype=torch.float32, requires_grad=True).to(device)\n",
    "b_left = torch.tensor(b_left, dtype=torch.float32, requires_grad=True).to(device)  # right\n",
    "b_right = torch.tensor(b_right, dtype=torch.float32, requires_grad=True).to(device)  # left\n",
    "\n",
    "# 分别提取散点的x t坐标 --> 列表\n",
    "x_res, t_res = res[:,0:1], res[:,1:2]\n",
    "x_init, t_init = b_init[:,0:1], b_init[:,1:2]\n",
    "x_end, t_end = b_end[:,0:1], b_end[:,1:2]\n",
    "x_left, t_left = b_left[:,0:1], b_left[:,1:2]\n",
    "x_right, t_right = b_right[:,0:1], b_right[:,1:2]\n",
    "\n",
    "# 有限体积采样边界点\n",
    "DFVM_solver = DFVMsolver(1, device)\n",
    "X_inL, X_inR = DFVM_solver.get_vol_data2(res)\n",
    "X_inL  = X_inL.requires_grad_(True).to(device)  # 内部点的CV边界采样点\n",
    "X_inR  = X_inR.requires_grad_(True).to(device)\n",
    "\n",
    "print('x_inL: ', X_inL.shape)\n",
    "\n",
    "print('res shape: ', res.shape, 'b_left shape: ', b_left.shape, 'b_right shape: ', b_right.shape, 'b_upper shape: ', b_init.shape, 'b_lower shape: ', b_end.shape)"
   ]
  },
  {
   "cell_type": "code",
   "execution_count": 68,
   "metadata": {},
   "outputs": [
    {
     "name": "stdout",
     "output_type": "stream",
     "text": [
      "PINNs(\n",
      "  (linear): Sequential(\n",
      "    (0): Linear(in_features=2, out_features=512, bias=True)\n",
      "    (1): Tanh()\n",
      "    (2): Linear(in_features=512, out_features=512, bias=True)\n",
      "    (3): Tanh()\n",
      "    (4): Linear(in_features=512, out_features=512, bias=True)\n",
      "    (5): Tanh()\n",
      "    (6): Linear(in_features=512, out_features=1, bias=True)\n",
      "  )\n",
      ")\n",
      "527361\n"
     ]
    },
    {
     "name": "stderr",
     "output_type": "stream",
     "text": [
      "/tmp/ipykernel_1374298/2796238932.py:11: UserWarning: nn.init.xavier_uniform is now deprecated in favor of nn.init.xavier_uniform_.\n",
      "  torch.nn.init.xavier_uniform(m.weight)\n",
      "/home/pengguohang/anaconda3/envs/py3.8/lib/python3.8/site-packages/torch/optim/lr_scheduler.py:28: UserWarning: The verbose parameter is deprecated. Please use get_last_lr() to access the learning rate.\n",
      "  warnings.warn(\"The verbose parameter is deprecated. Please use get_last_lr() \"\n"
     ]
    }
   ],
   "source": [
    "# Train PINNs -- MLP\n",
    "model = PINNs(in_dim=2, hidden_dim=512, out_dim=1, num_layer=4).to(device)\n",
    "\n",
    "model.apply(init_weights)\n",
    "# optim = LBFGS(model.parameters(), line_search_fn='strong_wolfe')\n",
    "optim = torch.optim.Adam(model.parameters(), lr=1e-3, betas=(0.9, 0.999))\n",
    "scheduler = lr_scheduler.ExponentialLR(optim, gamma=0.9, verbose=True)\n",
    "\n",
    "print(model)\n",
    "print(get_n_params(model))  # 总的参数量"
   ]
  },
  {
   "cell_type": "code",
   "execution_count": 69,
   "metadata": {},
   "outputs": [
    {
     "name": "stderr",
     "output_type": "stream",
     "text": [
      "  0%|          | 0/100000 [00:00<?, ?it/s]"
     ]
    },
    {
     "name": "stderr",
     "output_type": "stream",
     "text": [
      "  0%|          | 4/100000 [00:00<1:27:27, 19.06it/s]"
     ]
    },
    {
     "name": "stdout",
     "output_type": "stream",
     "text": [
      "Iter 0, res: 8.56311e-03, Lossic: 1.18004e+00, Lossbc: 2.71049e+00\n"
     ]
    },
    {
     "name": "stderr",
     "output_type": "stream",
     "text": [
      "  5%|▌         | 5004/100000 [03:56<1:23:24, 18.98it/s]"
     ]
    },
    {
     "name": "stdout",
     "output_type": "stream",
     "text": [
      "Iter 5000, res: 2.45662e-05, Lossic: 2.13983e-06, Lossbc: 1.66568e-07\n"
     ]
    },
    {
     "name": "stderr",
     "output_type": "stream",
     "text": [
      " 10%|█         | 10004/100000 [08:22<1:19:36, 18.84it/s]"
     ]
    },
    {
     "name": "stdout",
     "output_type": "stream",
     "text": [
      "Iter 10000, res: 3.08684e-06, Lossic: 2.77925e-06, Lossbc: 4.93382e-06\n"
     ]
    },
    {
     "name": "stderr",
     "output_type": "stream",
     "text": [
      " 15%|█▌        | 15004/100000 [12:49<1:15:08, 18.85it/s]"
     ]
    },
    {
     "name": "stdout",
     "output_type": "stream",
     "text": [
      "Iter 15000, res: 7.09778e-07, Lossic: 2.50056e-09, Lossbc: 1.46868e-09\n"
     ]
    },
    {
     "name": "stderr",
     "output_type": "stream",
     "text": [
      " 20%|██        | 20004/100000 [17:15<1:11:29, 18.65it/s]"
     ]
    },
    {
     "name": "stdout",
     "output_type": "stream",
     "text": [
      "Iter 20000, res: 5.58356e-07, Lossic: 2.44587e-07, Lossbc: 4.54184e-07\n"
     ]
    },
    {
     "name": "stderr",
     "output_type": "stream",
     "text": [
      " 25%|██▌       | 25004/100000 [21:42<1:06:55, 18.68it/s]"
     ]
    },
    {
     "name": "stdout",
     "output_type": "stream",
     "text": [
      "Iter 25000, res: 8.25676e-06, Lossic: 1.22399e-07, Lossbc: 3.64283e-08\n"
     ]
    },
    {
     "name": "stderr",
     "output_type": "stream",
     "text": [
      " 30%|███       | 30004/100000 [26:09<1:02:26, 18.68it/s]"
     ]
    },
    {
     "name": "stdout",
     "output_type": "stream",
     "text": [
      "Iter 30000, res: 4.41409e-06, Lossic: 1.31765e-08, Lossbc: 9.74013e-10\n"
     ]
    },
    {
     "name": "stderr",
     "output_type": "stream",
     "text": [
      " 35%|███▌      | 35004/100000 [30:36<58:06, 18.64it/s]  "
     ]
    },
    {
     "name": "stdout",
     "output_type": "stream",
     "text": [
      "Iter 35000, res: 6.33281e-08, Lossic: 2.86309e-09, Lossbc: 1.30998e-10\n"
     ]
    },
    {
     "name": "stderr",
     "output_type": "stream",
     "text": [
      " 40%|████      | 40004/100000 [35:03<53:30, 18.69it/s]"
     ]
    },
    {
     "name": "stdout",
     "output_type": "stream",
     "text": [
      "Iter 40000, res: 1.57230e-07, Lossic: 2.98614e-09, Lossbc: 2.97032e-10\n"
     ]
    },
    {
     "name": "stderr",
     "output_type": "stream",
     "text": [
      " 45%|████▌     | 45004/100000 [39:30<48:59, 18.71it/s]"
     ]
    },
    {
     "name": "stdout",
     "output_type": "stream",
     "text": [
      "Iter 45000, res: 1.87697e-07, Lossic: 1.70522e-09, Lossbc: 7.21250e-09\n"
     ]
    },
    {
     "name": "stderr",
     "output_type": "stream",
     "text": [
      " 50%|█████     | 50004/100000 [43:57<44:23, 18.77it/s]"
     ]
    },
    {
     "name": "stdout",
     "output_type": "stream",
     "text": [
      "Iter 50000, res: 7.77812e-08, Lossic: 6.60802e-10, Lossbc: 6.84695e-10\n"
     ]
    },
    {
     "name": "stderr",
     "output_type": "stream",
     "text": [
      " 55%|█████▌    | 55004/100000 [48:24<39:42, 18.89it/s]"
     ]
    },
    {
     "name": "stdout",
     "output_type": "stream",
     "text": [
      "Iter 55000, res: 1.54905e-07, Lossic: 4.70737e-09, Lossbc: 9.22130e-10\n"
     ]
    },
    {
     "name": "stderr",
     "output_type": "stream",
     "text": [
      " 60%|██████    | 60004/100000 [52:51<35:53, 18.58it/s]"
     ]
    },
    {
     "name": "stdout",
     "output_type": "stream",
     "text": [
      "Iter 60000, res: 1.63448e-08, Lossic: 2.20702e-06, Lossbc: 4.41568e-06\n"
     ]
    },
    {
     "name": "stderr",
     "output_type": "stream",
     "text": [
      " 65%|██████▌   | 65004/100000 [57:17<31:08, 18.73it/s]"
     ]
    },
    {
     "name": "stdout",
     "output_type": "stream",
     "text": [
      "Iter 65000, res: 3.21032e-08, Lossic: 5.89285e-10, Lossbc: 9.15349e-10\n"
     ]
    },
    {
     "name": "stderr",
     "output_type": "stream",
     "text": [
      " 70%|███████   | 70004/100000 [1:01:43<26:52, 18.60it/s]"
     ]
    },
    {
     "name": "stdout",
     "output_type": "stream",
     "text": [
      "Iter 70000, res: 5.66009e-08, Lossic: 1.01809e-09, Lossbc: 2.52323e-10\n"
     ]
    },
    {
     "name": "stderr",
     "output_type": "stream",
     "text": [
      " 75%|███████▌  | 75004/100000 [1:06:10<22:18, 18.68it/s]"
     ]
    },
    {
     "name": "stdout",
     "output_type": "stream",
     "text": [
      "Iter 75000, res: 4.04805e-05, Lossic: 2.62405e-04, Lossbc: 6.92303e-04\n"
     ]
    },
    {
     "name": "stderr",
     "output_type": "stream",
     "text": [
      " 80%|████████  | 80004/100000 [1:10:37<17:44, 18.78it/s]"
     ]
    },
    {
     "name": "stdout",
     "output_type": "stream",
     "text": [
      "Iter 80000, res: 2.85924e-08, Lossic: 1.92467e-09, Lossbc: 7.12412e-10\n"
     ]
    },
    {
     "name": "stderr",
     "output_type": "stream",
     "text": [
      " 85%|████████▌ | 85004/100000 [1:15:05<13:16, 18.82it/s]"
     ]
    },
    {
     "name": "stdout",
     "output_type": "stream",
     "text": [
      "Iter 85000, res: 8.78568e-09, Lossic: 3.42718e-10, Lossbc: 3.10101e-11\n"
     ]
    },
    {
     "name": "stderr",
     "output_type": "stream",
     "text": [
      " 90%|█████████ | 90004/100000 [1:19:33<08:57, 18.59it/s]"
     ]
    },
    {
     "name": "stdout",
     "output_type": "stream",
     "text": [
      "Iter 90000, res: 1.01453e-08, Lossic: 2.83579e-10, Lossbc: 3.83669e-10\n"
     ]
    },
    {
     "name": "stderr",
     "output_type": "stream",
     "text": [
      " 95%|█████████▌| 95004/100000 [1:24:00<04:27, 18.68it/s]"
     ]
    },
    {
     "name": "stdout",
     "output_type": "stream",
     "text": [
      "Iter 95000, res: 9.76932e-09, Lossic: 1.52976e-10, Lossbc: 5.12805e-11\n"
     ]
    },
    {
     "name": "stderr",
     "output_type": "stream",
     "text": [
      "100%|██████████| 100000/100000 [1:28:28<00:00, 18.84it/s]\n"
     ]
    }
   ],
   "source": [
    "# trian\n",
    "loss_track = []\n",
    "step_size = 5000\n",
    "\n",
    "def jacobian(y, x, i, j):\n",
    "    '''\n",
    "    input: y[], x[]\n",
    "    '''\n",
    "    y = y[:,i]\n",
    "    grad = torch.autograd.grad(y, x, grad_outputs=torch.ones_like(y), create_graph=True, retain_graph=True)[0][:,j]  # y 相对于 x 的第 j 维的偏导数\n",
    "    return grad.reshape(-1, 1)\n",
    "\n",
    "def pde_burgers1D(x, model, nu):\n",
    "    '''\n",
    "    u_t + uu_x = 0\n",
    "\n",
    "    input: x:[x, xL, xR] [内部点、CV左边界点、CV右边界点]\n",
    "    '''\n",
    "    x, t, xL, xR = x\n",
    "    y = model(x, t)\n",
    "    dy_x = jacobian(y, x, i=0, j=0)\n",
    "    dy_t = jacobian(y, t, i=0, j=0)\n",
    "    yL = model(xL[:, 0:1], t)\n",
    "    yR = model(xR[:, 0:1], t)\n",
    "    dyR_x = jacobian(yR, xR, i=0, j=0)\n",
    "    dyL_x = jacobian(yL, xL, i=0, j=0)\n",
    "    res = (dy_t + y * dy_x)*0.0002 - nu*(dyR_x - dyL_x)\n",
    "    return res.reshape(-1, 1)\n",
    "\n",
    "# for i in tqdm(range(300000)):\n",
    "#     optim.zero_grad()\n",
    "    \n",
    "#     pred_res = model(x_res, t_res)  # (n, 1)\n",
    "#     pred_init = model(x_init, t_init)  # init\n",
    "#     pred_left = model(x_left, t_left)  # right\n",
    "#     pred_right = model(x_right, t_right)  # left\n",
    "    \n",
    "#     u = pred_res\n",
    "#     u_x = torch.autograd.grad(pred_res, x_res, grad_outputs=torch.ones_like(pred_res), retain_graph=True, create_graph=True)[0]\n",
    "#     u_t = torch.autograd.grad(pred_res, t_res, grad_outputs=torch.ones_like(pred_res), retain_graph=True, create_graph=True)[0]\n",
    "    \n",
    "#     # GA_PINNs：计算权重，乘以每个残差点的res\n",
    "#     alpha = 1\n",
    "#     beta = 1.25\n",
    "#     Lambda = ( 1 / (1 +  alpha * torch.abs(u_x)**beta ) ) # Works fine 每个残差点，梯度越大，lambda越小；\n",
    "\n",
    "#     loss_res_1 = torch.mean(Lambda * ((u_t + u * u_x) ** 2))  \n",
    "#     loss_res_2 = torch.mean( (1-Lambda) * (pde_burgers1D((x_res, t_res, X_inL, X_inR), model, 0.001)**2) )\n",
    "#     loss_res =  loss_res_1 + loss_res_2  # lambda大的地方梯度小，使用强形式；lamba小的地方梯度大，使用弱形式；\n",
    "#     loss_ic = torch.mean(torch.where(x_init <= 0, (pred_init-1) ** 2, pred_init ** 2))\n",
    "#     loss_bcL = torch.mean((pred_left - 1) ** 2)\n",
    "#     loss_bcR = torch.mean((pred_right) ** 2)\n",
    "#     loss_bc = loss_bcL + loss_bcR\n",
    "\n",
    "#     loss = loss_res + loss_ic + loss_bc\n",
    "    \n",
    "#     loss.backward()\n",
    "#     optim.step()\n",
    "\n",
    "#     if (i+1) % step_size == 0:\n",
    "#         scheduler.step()\n",
    "\n",
    "#     with torch.no_grad():\n",
    "#         loss_track.append([loss_res.item(), loss_bc.item(), loss_ic.item()])\n",
    "    \n",
    "#     if i % 5000 == 0:\n",
    "#         print('Iter %d, res1: %.5e, res2: %.5e, Lossic: %.5e, Lossbc: %.5e' % (i, loss_res_1.item(), loss_res_2.item(), loss_ic.item(), loss_bc.item()))\n",
    "def pinn_burgers1D(x_res, t_res, model):\n",
    "    u = model(x_res, t_res)   # (n, 1)\n",
    "    u_x = torch.autograd.grad(u, x_res, grad_outputs=torch.ones_like(u), retain_graph=True, create_graph=True)[0]\n",
    "    u_t = torch.autograd.grad(u, t_res, grad_outputs=torch.ones_like(u), retain_graph=True, create_graph=True)[0]\n",
    "\n",
    "    return (u_t + u * u_x) ** 2\n",
    "\n",
    "for i in tqdm(range(100000)):\n",
    "    optim.zero_grad()\n",
    "    \n",
    "    pred_init = model(x_init, t_init)  # init\n",
    "    pred_left = model(x_left, t_left)  # right\n",
    "    pred_right = model(x_right, t_right)  # left\n",
    "    \n",
    "    \n",
    "    # 残差点loss分区域计算：在[-0.1, 0.1]使用强形式，其他使用弱形式\n",
    "    a = x_res <= 0.1\n",
    "    b = x_res >= -0.1\n",
    "    c = a & b\n",
    "    loss_res = torch.mean(torch.where(c, pde_burgers1D((x_res, t_res, X_inL, X_inR), model, 0.001)**2, \n",
    "                                      pinn_burgers1D(x_res, t_res, model)))\n",
    "    loss_ic = torch.mean(torch.where(x_init <= 0, (pred_init-1) ** 2, (pred_init+1) ** 2))\n",
    "    loss_bcL = torch.mean((pred_left - 1) ** 2)\n",
    "    loss_bcR = torch.mean((pred_right + 1) ** 2)\n",
    "    loss_bc = loss_bcL + loss_bcR\n",
    "\n",
    "    loss = loss_res + 100*loss_ic + loss_bc\n",
    "    \n",
    "    loss.backward()\n",
    "    optim.step()\n",
    "\n",
    "    if (i+1) % step_size == 0:\n",
    "        scheduler.step()\n",
    "\n",
    "    with torch.no_grad():\n",
    "        loss_track.append([loss_res.item(), loss_bc.item(), loss_ic.item()])\n",
    "    \n",
    "    if i % 5000 == 0:\n",
    "        print('Iter %d, res: %.5e, Lossic: %.5e, Lossbc: %.5e' % (i, loss_res.item(), loss_ic.item(), loss_bc.item()))"
   ]
  },
  {
   "cell_type": "code",
   "execution_count": 52,
   "metadata": {},
   "outputs": [
    {
     "name": "stdout",
     "output_type": "stream",
     "text": [
      "Loss Res: 0.000000, Loss_BC: 0.000000, Loss_IC: 0.000000\n",
      "Train Loss: 0.000000\n"
     ]
    }
   ],
   "source": [
    "print('Loss Res: {:4f}, Loss_BC: {:4f}, Loss_IC: {:4f}'.format(loss_track[-1][0], loss_track[-1][1], loss_track[-1][2]))\n",
    "print('Train Loss: {:4f}'.format(np.sum(loss_track[-1])))"
   ]
  },
  {
   "cell_type": "code",
   "execution_count": 70,
   "metadata": {},
   "outputs": [
    {
     "name": "stdout",
     "output_type": "stream",
     "text": [
      "(101, 101)\n",
      "relative L1 error: 0.000101\n",
      "relative L2 error: 0.000613\n",
      "MSE:  3.7536324e-07\n",
      "RMSE:  0.00010130794\n",
      "L2RE:  0.00010146933\n",
      "MaxE:  0.00017683636\n"
     ]
    },
    {
     "data": {
      "image/png": "[encoded data removed]",
      "text/plain": [
       "<Figure size 400x300 with 2 Axes>"
      ]
     },
     "metadata": {},
     "output_type": "display_data"
    }
   ],
   "source": [
    "# Visualize PINNs \n",
    "res_test = torch.tensor(res_test, dtype=torch.float32, requires_grad=True).to(device)\n",
    "x_test, t_test = res_test[:,0:1], res_test[:,1:2]\n",
    "\n",
    "mat = scipy.io.loadmat('./burgers.mat')\n",
    "u = mat['u'].reshape(X_SIZE, T_SIZE)\n",
    "\n",
    "with torch.no_grad():\n",
    "    pred = model(x_test, t_test)[:,0:1]\n",
    "    pred = pred.cpu().detach().numpy()\n",
    "pred = pred.reshape(X_SIZE, T_SIZE)\n",
    "\n",
    "print(pred.shape)\n",
    "\n",
    "rl1 = np.sum(np.abs(u-pred)) / np.sum(np.abs(u))\n",
    "rl2 = np.sqrt(np.sum((u-pred)**2) / np.sum(u**2))\n",
    "print('relative L1 error: {:4f}'.format(rl1))\n",
    "print('relative L2 error: {:4f}'.format(rl2))\n",
    "\n",
    "L2re = L2RE(torch.tensor(u), torch.tensor(pred)).mean()\n",
    "MaxE = MaxError(torch.tensor(u), torch.tensor(pred)).mean()\n",
    "Mse = MSE(torch.tensor(u), torch.tensor(pred)).mean()\n",
    "Rmse = RMSE(torch.tensor(u), torch.tensor(pred)).mean()\n",
    "print(\"MSE: \", Mse.detach().cpu().numpy())\n",
    "print(\"RMSE: \", Rmse.detach().cpu().numpy())\n",
    "print(\"L2RE: \", L2re.detach().cpu().numpy())\n",
    "print(\"MaxE: \", MaxE.detach().cpu().numpy())\n",
    "\n",
    "\n",
    "plt.figure(figsize=(4,3))\n",
    "plt.imshow(pred, extent=[-1,1,0.6,0], aspect='auto',  cmap='coolwarm')\n",
    "plt.xlabel('x')\n",
    "plt.ylabel('t')\n",
    "plt.title('Prediction')\n",
    "plt.colorbar()\n",
    "plt.tight_layout()\n",
    "plt.savefig('./image/test/mix_0.1_pred2.png')\n",
    "plt.show()"
   ]
  },
  {
   "cell_type": "code",
   "execution_count": 58,
   "metadata": {},
   "outputs": [
    {
     "data": {
      "image/png": "[encoded data removed]",
      "text/plain": [
       "<Figure size 400x300 with 2 Axes>"
      ]
     },
     "metadata": {},
     "output_type": "display_data"
    }
   ],
   "source": [
    "plt.figure(figsize=(4,3))\n",
    "plt.imshow(u, extent=[-1, 1, 0.6, 0], aspect='auto',  cmap='coolwarm')\n",
    "plt.xlabel('x')\n",
    "plt.ylabel('t')\n",
    "plt.title('Exact u(x,t)')\n",
    "plt.colorbar()\n",
    "plt.tight_layout()\n",
    "plt.savefig('./image/exact.png')\n",
    "plt.show()"
   ]
  },
  {
   "cell_type": "code",
   "execution_count": 71,
   "metadata": {},
   "outputs": [
    {
     "data": {
      "image/png": "[encoded data removed]",
      "text/plain": [
       "<Figure size 400x300 with 2 Axes>"
      ]
     },
     "metadata": {},
     "output_type": "display_data"
    }
   ],
   "source": [
    "plt.figure(figsize=(4,3))\n",
    "plt.imshow(np.abs(pred - u), extent=[-1, 1, 0, 0.6], aspect='auto',  cmap='coolwarm')\n",
    "plt.xlabel('x')\n",
    "plt.ylabel('t')\n",
    "plt.title('Absolute Error')\n",
    "plt.colorbar()\n",
    "plt.tight_layout()\n",
    "plt.savefig('./image/test/mix_0.1_error2.png')\n",
    "plt.show()"
   ]
  },
  {
   "cell_type": "code",
   "execution_count": 72,
   "metadata": {},
   "outputs": [
    {
     "name": "stdout",
     "output_type": "stream",
     "text": [
      "(101, 101)\n"
     ]
    },
    {
     "data": {
      "image/png": "[encoded data removed]",
      "text/plain": [
       "<Figure size 500x500 with 1 Axes>"
      ]
     },
     "metadata": {},
     "output_type": "display_data"
    }
   ],
   "source": [
    "# 绘制t时刻的折线图\n",
    "print(u.shape)\n",
    "import matplotlib.pyplot as plt\n",
    "import numpy as np\n",
    "\n",
    "# 假设的时间序列数据\n",
    "x = np.linspace(-1, 1, 101)\n",
    "u_real = u[-1, :]  # 实际值，例如使用正弦波\n",
    "u_pred = pred[-1, :]  # 预测值，添加一些噪声\n",
    "\n",
    "plt.figure(figsize=(5, 5))\n",
    "plt.plot(x, u_real, label='u_real', color='blue')  # 实际值曲线\n",
    "plt.plot(x, u_pred, label='u_pred', color='red', linestyle='--')  # 预测值曲线\n",
    "\n",
    "plt.title('t=0.6 s')\n",
    "plt.xlabel('x')\n",
    "plt.ylabel('u')\n",
    "plt.legend()\n",
    "plt.grid(False)\n",
    "plt.savefig('./image/test/mix_0.1_0.6_2.png')\n",
    "plt.show()\n"
   ]
  }
 ],
 "metadata": {
  "kernelspec": {
   "display_name": "leo",
   "language": "python",
   "name": "python3"
  },
  "language_info": {
   "codemirror_mode": {
    "name": "ipython",
    "version": 3
   },
   "file_extension": ".py",
   "mimetype": "text/x-python",
   "name": "python",
   "nbconvert_exporter": "python",
   "pygments_lexer": "ipython3",
   "version": "3.8.18"
  },
  "orig_nbformat": 4
 },
 "nbformat": 4,
 "nbformat_minor": 2
}
