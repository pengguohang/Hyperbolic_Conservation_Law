{
 "cells": [
  {
   "cell_type": "code",
   "execution_count": 1,
   "metadata": {},
   "outputs": [],
   "source": [
    "import numpy as np\n",
    "import torch\n",
    "import torch.nn as nn\n",
    "import matplotlib.pyplot as plt\n",
    "import random\n",
    "from torch.optim import LBFGS\n",
    "from tqdm import tqdm\n",
    "import scipy.io\n",
    "import sys\n",
    "import h5py\n",
    "from torch.optim import lr_scheduler\n",
    "\n",
    "sys.path.append(\"../\")\n",
    "sys.path.append(\"../..\")\n",
    "from metric import *\n",
    "from util import *\n",
    "from model.pinn import PINNs\n",
    "\n",
    "# 无粘Burgers方程: u_t + u*u_x = 0\n",
    "# IC:u(x, 0) = sin(x)\n",
    "# BC:u(0, t) = u(2π, t)"
   ]
  },
  {
   "cell_type": "code",
   "execution_count": 2,
   "metadata": {},
   "outputs": [],
   "source": [
    "seed = 0\n",
    "np.random.seed(seed)\n",
    "random.seed(seed)\n",
    "torch.manual_seed(seed)\n",
    "torch.cuda.manual_seed(seed)\n",
    "\n",
    "device = 'cuda:5'\n",
    "\n",
    "def init_weights(m):\n",
    "    if isinstance(m, nn.Linear):\n",
    "        torch.nn.init.xavier_uniform(m.weight)\n",
    "        m.bias.data.fill_(0.01)"
   ]
  },
  {
   "cell_type": "code",
   "execution_count": 3,
   "metadata": {},
   "outputs": [
    {
     "name": "stdout",
     "output_type": "stream",
     "text": [
      "res shape:  torch.Size([10201, 2]) b_left shape:  torch.Size([101, 2]) b_right shape:  torch.Size([101, 2]) b_upper shape:  torch.Size([101, 2]) b_lower shape:  torch.Size([101, 2])\n"
     ]
    }
   ],
   "source": [
    "# get data\n",
    "# 几何区域：0<=x<=2*pi, 0<=t<=1\n",
    "# 离散化：101*101网格\n",
    "# res: 所有散点坐标\n",
    "# b_left, b_right, b_upper, b_lower：边界点坐标\n",
    "\n",
    "res, b_init, b_end, b_left, b_right = get_data([-1, 1], [0, 0.6], 101, 101) \n",
    "res_test, _, _, _, _ = get_data([-1, 1], [0, 0.6], 101, 101) \n",
    "\n",
    "res = torch.tensor(res, dtype=torch.float32, requires_grad=True).to(device)\n",
    "b_init = torch.tensor(b_init, dtype=torch.float32, requires_grad=True).to(device)  # init\n",
    "b_end = torch.tensor(b_end, dtype=torch.float32, requires_grad=True).to(device)\n",
    "b_left = torch.tensor(b_left, dtype=torch.float32, requires_grad=True).to(device)  # right\n",
    "b_right = torch.tensor(b_right, dtype=torch.float32, requires_grad=True).to(device)  # left\n",
    "\n",
    "# 分别提取散点的x t坐标 --> 列表\n",
    "x_res, t_res = res[:,0:1], res[:,1:2]\n",
    "x_init, t_init = b_init[:,0:1], b_init[:,1:2]\n",
    "x_end, t_end = b_end[:,0:1], b_end[:,1:2]\n",
    "x_left, t_left = b_left[:,0:1], b_left[:,1:2]\n",
    "x_right, t_right = b_right[:,0:1], b_right[:,1:2]\n",
    "\n",
    "print('res shape: ', res.shape, 'b_left shape: ', b_left.shape, 'b_right shape: ', b_right.shape, 'b_upper shape: ', b_init.shape, 'b_lower shape: ', b_end.shape)"
   ]
  },
  {
   "cell_type": "code",
   "execution_count": 4,
   "metadata": {},
   "outputs": [
    {
     "name": "stderr",
     "output_type": "stream",
     "text": [
      "/tmp/ipykernel_1408070/1335394820.py:11: UserWarning: nn.init.xavier_uniform is now deprecated in favor of nn.init.xavier_uniform_.\n",
      "  torch.nn.init.xavier_uniform(m.weight)\n"
     ]
    },
    {
     "name": "stdout",
     "output_type": "stream",
     "text": [
      "PINNs(\n",
      "  (linear): Sequential(\n",
      "    (0): Linear(in_features=2, out_features=512, bias=True)\n",
      "    (1): Tanh()\n",
      "    (2): Linear(in_features=512, out_features=512, bias=True)\n",
      "    (3): Tanh()\n",
      "    (4): Linear(in_features=512, out_features=512, bias=True)\n",
      "    (5): Tanh()\n",
      "    (6): Linear(in_features=512, out_features=1, bias=True)\n",
      "  )\n",
      ")\n",
      "527361\n"
     ]
    },
    {
     "name": "stderr",
     "output_type": "stream",
     "text": [
      "/home/pengguohang/anaconda3/envs/py3.8/lib/python3.8/site-packages/torch/optim/lr_scheduler.py:28: UserWarning: The verbose parameter is deprecated. Please use get_last_lr() to access the learning rate.\n",
      "  warnings.warn(\"The verbose parameter is deprecated. Please use get_last_lr() \"\n"
     ]
    }
   ],
   "source": [
    "# Train PINNs -- MLP\n",
    "model = PINNs(in_dim=2, hidden_dim=512, out_dim=1, num_layer=4).to(device)\n",
    "\n",
    "model.apply(init_weights)\n",
    "# optim = LBFGS(model.parameters(), line_search_fn='strong_wolfe')\n",
    "optim = torch.optim.Adam(model.parameters(), lr=1e-3, betas=(0.9, 0.999))\n",
    "scheduler = lr_scheduler.ExponentialLR(optim, gamma=0.9, verbose=True)\n",
    "\n",
    "print(model)\n",
    "print(get_n_params(model))  # 总的参数量"
   ]
  },
  {
   "cell_type": "code",
   "execution_count": 5,
   "metadata": {},
   "outputs": [
    {
     "name": "stdout",
     "output_type": "stream",
     "text": [
      "tensor([[-1.0000],\n",
      "        [-0.9800],\n",
      "        [-0.9600],\n",
      "        ...,\n",
      "        [ 0.9600],\n",
      "        [ 0.9800],\n",
      "        [ 1.0000]], device='cuda:5', grad_fn=<SliceBackward0>)\n"
     ]
    },
    {
     "data": {
      "text/plain": [
       "[-0.1, 0.1]"
      ]
     },
     "execution_count": 5,
     "metadata": {},
     "output_type": "execute_result"
    }
   ],
   "source": [
    "print(x_res)\n",
    "[-0.1, 0.1]"
   ]
  },
  {
   "cell_type": "code",
   "execution_count": 6,
   "metadata": {},
   "outputs": [
    {
     "name": "stderr",
     "output_type": "stream",
     "text": [
      "  0%|          | 7/100000 [00:00<1:09:56, 23.83it/s]"
     ]
    },
    {
     "name": "stdout",
     "output_type": "stream",
     "text": [
      "Iter 0, res: 9.58869e-03, Lossic: 1.18004e+00, Lossbc: 2.71049e+00\n"
     ]
    },
    {
     "name": "stderr",
     "output_type": "stream",
     "text": [
      "  5%|▌         | 5011/100000 [01:18<24:21, 65.01it/s]"
     ]
    },
    {
     "name": "stdout",
     "output_type": "stream",
     "text": [
      "Iter 5000, res: 3.07670e-02, Lossic: 1.58834e-01, Lossbc: 6.65320e-06\n"
     ]
    },
    {
     "name": "stderr",
     "output_type": "stream",
     "text": [
      " 10%|█         | 10009/100000 [02:36<24:24, 61.47it/s]"
     ]
    },
    {
     "name": "stdout",
     "output_type": "stream",
     "text": [
      "Iter 10000, res: 4.46583e-02, Lossic: 2.61011e-01, Lossbc: 2.02834e-05\n"
     ]
    },
    {
     "name": "stderr",
     "output_type": "stream",
     "text": [
      " 15%|█▌        | 15010/100000 [03:58<23:14, 60.95it/s]"
     ]
    },
    {
     "name": "stdout",
     "output_type": "stream",
     "text": [
      "Iter 15000, res: 1.54653e-03, Lossic: 3.50662e-02, Lossbc: 1.69303e-06\n"
     ]
    },
    {
     "name": "stderr",
     "output_type": "stream",
     "text": [
      " 20%|██        | 20010/100000 [05:23<22:14, 59.93it/s]"
     ]
    },
    {
     "name": "stdout",
     "output_type": "stream",
     "text": [
      "Iter 20000, res: 3.00142e-02, Lossic: 1.62979e-01, Lossbc: 3.67351e-06\n"
     ]
    },
    {
     "name": "stderr",
     "output_type": "stream",
     "text": [
      " 25%|██▌       | 25013/100000 [06:47<20:46, 60.15it/s]"
     ]
    },
    {
     "name": "stdout",
     "output_type": "stream",
     "text": [
      "Iter 25000, res: 1.62500e-02, Lossic: 1.02492e-01, Lossbc: 1.83674e-06\n"
     ]
    },
    {
     "name": "stderr",
     "output_type": "stream",
     "text": [
      " 30%|███       | 30007/100000 [08:12<19:53, 58.63it/s]"
     ]
    },
    {
     "name": "stdout",
     "output_type": "stream",
     "text": [
      "Iter 30000, res: 1.63742e-02, Lossic: 9.42980e-02, Lossbc: 6.72849e-06\n"
     ]
    },
    {
     "name": "stderr",
     "output_type": "stream",
     "text": [
      " 35%|███▌      | 35007/100000 [09:37<18:10, 59.60it/s]"
     ]
    },
    {
     "name": "stdout",
     "output_type": "stream",
     "text": [
      "Iter 35000, res: 1.27273e-02, Lossic: 7.11778e-02, Lossbc: 1.53363e-06\n"
     ]
    },
    {
     "name": "stderr",
     "output_type": "stream",
     "text": [
      " 40%|████      | 40011/100000 [11:02<16:51, 59.32it/s]"
     ]
    },
    {
     "name": "stdout",
     "output_type": "stream",
     "text": [
      "Iter 40000, res: 6.15688e-03, Lossic: 4.91395e-02, Lossbc: 4.49164e-05\n"
     ]
    },
    {
     "name": "stderr",
     "output_type": "stream",
     "text": [
      " 45%|████▌     | 45007/100000 [12:27<15:22, 59.64it/s]"
     ]
    },
    {
     "name": "stdout",
     "output_type": "stream",
     "text": [
      "Iter 45000, res: 2.11339e-02, Lossic: 4.57590e-02, Lossbc: 1.56735e-04\n"
     ]
    },
    {
     "name": "stderr",
     "output_type": "stream",
     "text": [
      " 50%|█████     | 50007/100000 [13:52<13:58, 59.62it/s]"
     ]
    },
    {
     "name": "stdout",
     "output_type": "stream",
     "text": [
      "Iter 50000, res: 1.84420e-03, Lossic: 3.90660e-02, Lossbc: 2.18778e-06\n"
     ]
    },
    {
     "name": "stderr",
     "output_type": "stream",
     "text": [
      " 55%|█████▌    | 55008/100000 [15:16<12:49, 58.47it/s]"
     ]
    },
    {
     "name": "stdout",
     "output_type": "stream",
     "text": [
      "Iter 55000, res: 2.26937e-03, Lossic: 2.70424e-02, Lossbc: 2.19330e-07\n"
     ]
    },
    {
     "name": "stderr",
     "output_type": "stream",
     "text": [
      " 60%|██████    | 60013/100000 [16:41<11:07, 59.94it/s]"
     ]
    },
    {
     "name": "stdout",
     "output_type": "stream",
     "text": [
      "Iter 60000, res: 9.05089e-04, Lossic: 1.99673e-02, Lossbc: 3.11753e-07\n"
     ]
    },
    {
     "name": "stderr",
     "output_type": "stream",
     "text": [
      " 65%|██████▌   | 65007/100000 [18:06<10:00, 58.27it/s]"
     ]
    },
    {
     "name": "stdout",
     "output_type": "stream",
     "text": [
      "Iter 65000, res: 3.30025e-04, Lossic: 1.96337e-02, Lossbc: 1.19695e-07\n"
     ]
    },
    {
     "name": "stderr",
     "output_type": "stream",
     "text": [
      " 70%|███████   | 70011/100000 [19:31<08:24, 59.42it/s]"
     ]
    },
    {
     "name": "stdout",
     "output_type": "stream",
     "text": [
      "Iter 70000, res: 1.76722e-02, Lossic: 1.94062e-02, Lossbc: 4.75225e-04\n"
     ]
    },
    {
     "name": "stderr",
     "output_type": "stream",
     "text": [
      " 75%|███████▌  | 75011/100000 [20:56<07:00, 59.36it/s]"
     ]
    },
    {
     "name": "stdout",
     "output_type": "stream",
     "text": [
      "Iter 75000, res: 9.62085e-03, Lossic: 1.04551e-02, Lossbc: 2.50692e-04\n"
     ]
    },
    {
     "name": "stderr",
     "output_type": "stream",
     "text": [
      " 80%|████████  | 80009/100000 [22:22<05:34, 59.69it/s]"
     ]
    },
    {
     "name": "stdout",
     "output_type": "stream",
     "text": [
      "Iter 80000, res: 1.96515e-03, Lossic: 9.67765e-03, Lossbc: 5.63870e-05\n"
     ]
    },
    {
     "name": "stderr",
     "output_type": "stream",
     "text": [
      " 85%|████████▌ | 85010/100000 [23:47<04:15, 58.71it/s]"
     ]
    },
    {
     "name": "stdout",
     "output_type": "stream",
     "text": [
      "Iter 85000, res: 9.81199e-04, Lossic: 9.77673e-03, Lossbc: 6.49894e-07\n"
     ]
    },
    {
     "name": "stderr",
     "output_type": "stream",
     "text": [
      " 90%|█████████ | 90010/100000 [25:12<02:52, 57.81it/s]"
     ]
    },
    {
     "name": "stdout",
     "output_type": "stream",
     "text": [
      "Iter 90000, res: 4.08299e-04, Lossic: 9.83475e-03, Lossbc: 8.15825e-07\n"
     ]
    },
    {
     "name": "stderr",
     "output_type": "stream",
     "text": [
      " 95%|█████████▌| 95011/100000 [26:37<01:24, 58.90it/s]"
     ]
    },
    {
     "name": "stdout",
     "output_type": "stream",
     "text": [
      "Iter 95000, res: 1.31526e-04, Lossic: 9.74058e-03, Lossbc: 8.50046e-09\n"
     ]
    },
    {
     "name": "stderr",
     "output_type": "stream",
     "text": [
      "100%|██████████| 100000/100000 [28:02<00:00, 59.45it/s]\n"
     ]
    }
   ],
   "source": [
    "# trian\n",
    "loss_track = []\n",
    "step_size = 5000\n",
    "\n",
    "for i in tqdm(range(100000)):\n",
    "    optim.zero_grad()\n",
    "\n",
    "    pred_res = model(x_res, t_res)  # (n, 1)\n",
    "    pred_init = model(x_init, t_init)  # init\n",
    "    pred_left = model(x_left, t_left)  # right\n",
    "    pred_right = model(x_right, t_right)  # left\n",
    "\n",
    "    u = pred_res\n",
    "    u_x = torch.autograd.grad(pred_res, x_res, grad_outputs=torch.ones_like(pred_res), retain_graph=True, create_graph=True)[0]  # (n, 1)\n",
    "    u_t = torch.autograd.grad(pred_res, t_res, grad_outputs=torch.ones_like(pred_res), retain_graph=True, create_graph=True)[0]\n",
    "\n",
    "    loss_res = torch.mean((u_t + u * u_x) ** 2)\n",
    "    # loss_bc = torch.mean((pred_left - 1) ** 2 + (pred_right) ** 2)  # 边界：u(0, t) = 1, t>=0; u(1, t) = 0, t>=0\n",
    "    # loss_ic = torch.mean(torch.where(x_init <= 0, (pred_init-1) ** 2, pred_init ** 2))  # 初值：u(x, 0) = 1, x<=0; u(x, 0) = 0, x>0\n",
    "    # print('loss: ', loss_res, loss_bc, loss_ic)\n",
    "    loss_ic = torch.mean(torch.where(x_init <= 0, (pred_init-1) ** 2, (pred_init+1) ** 2))\n",
    "    loss_bcL = torch.mean((pred_left - 1) ** 2)\n",
    "    loss_bcR = torch.mean((pred_right + 1) ** 2)\n",
    "    loss_bc = loss_bcL + loss_bcR\n",
    "\n",
    "    loss = loss_res + loss_bc + loss_ic\n",
    "    \n",
    "    loss.backward()\n",
    "    optim.step()  # 参数更新\n",
    "\n",
    "    if (i+1) % step_size == 0:\n",
    "        scheduler.step()\n",
    "\n",
    "    with torch.no_grad():\n",
    "        loss_track.append([loss_res.item(), loss_bc.item(), loss_ic.item()])\n",
    "    \n",
    "    if i % 5000 == 0:\n",
    "        print('Iter %d, res: %.5e, Lossic: %.5e, Lossbc: %.5e' % (i, loss_res.item(), loss_ic.item(), loss_bc.item()))\n"
   ]
  },
  {
   "cell_type": "code",
   "execution_count": 7,
   "metadata": {},
   "outputs": [
    {
     "name": "stdout",
     "output_type": "stream",
     "text": [
      "Loss Res: 0.000469, Loss_BC: 0.000001, Loss_IC: 0.009491\n",
      "Train Loss: 0.009960\n"
     ]
    }
   ],
   "source": [
    "print('Loss Res: {:4f}, Loss_BC: {:4f}, Loss_IC: {:4f}'.format(loss_track[-1][0], loss_track[-1][1], loss_track[-1][2]))\n",
    "print('Train Loss: {:4f}'.format(np.sum(loss_track[-1])))"
   ]
  },
  {
   "cell_type": "code",
   "execution_count": 13,
   "metadata": {},
   "outputs": [
    {
     "name": "stderr",
     "output_type": "stream",
     "text": [
      "/tmp/ipykernel_1408070/1276376345.py:5: UserWarning: To copy construct from a tensor, it is recommended to use sourceTensor.clone().detach() or sourceTensor.clone().detach().requires_grad_(True), rather than torch.tensor(sourceTensor).\n",
      "  res_test = torch.tensor(res_test, dtype=torch.float32, requires_grad=True).to(device)\n"
     ]
    },
    {
     "name": "stdout",
     "output_type": "stream",
     "text": [
      "(101, 101)\n",
      "relative L1 error: 0.082719\n",
      "relative L2 error: 0.291605\n",
      "MSE:  0.08503366\n",
      "RMSE:  0.08271938\n",
      "L2RE:  9.41837\n",
      "MaxE:  0.112418674\n"
     ]
    },
    {
     "data": {
      "image/png": "[encoded data removed]",
      "text/plain": [
       "<Figure size 400x300 with 2 Axes>"
      ]
     },
     "metadata": {},
     "output_type": "display_data"
    }
   ],
   "source": [
    "# Visualize PINNs \n",
    "X_SIZE = 101\n",
    "T_SIZE = 101\n",
    "\n",
    "res_test = torch.tensor(res_test, dtype=torch.float32, requires_grad=True).to(device)\n",
    "x_test, t_test = res_test[:,0:1], res_test[:,1:2]\n",
    "\n",
    "mat = scipy.io.loadmat('./burgers.mat')\n",
    "u = mat['u'].reshape(X_SIZE, T_SIZE)\n",
    "\n",
    "with torch.no_grad():\n",
    "    pred = model(x_test, t_test)[:,0:1]\n",
    "    pred = pred.cpu().detach().numpy()\n",
    "pred = pred.reshape(X_SIZE, T_SIZE)\n",
    "\n",
    "print(pred.shape)\n",
    "\n",
    "rl1 = np.sum(np.abs(u-pred)) / np.sum(np.abs(u))\n",
    "rl2 = np.sqrt(np.sum((u-pred)**2) / np.sum(u**2))\n",
    "print('relative L1 error: {:4f}'.format(rl1))\n",
    "print('relative L2 error: {:4f}'.format(rl2))\n",
    "\n",
    "L2re = L2RE(torch.tensor(u), torch.tensor(pred)).mean()\n",
    "MaxE = MaxError(torch.tensor(u), torch.tensor(pred)).mean()\n",
    "Mse = MSE(torch.tensor(u), torch.tensor(pred)).mean()\n",
    "Rmse = RMSE(torch.tensor(u), torch.tensor(pred)).mean()\n",
    "print(\"MSE: \", Mse.detach().cpu().numpy())\n",
    "print(\"RMSE: \", Rmse.detach().cpu().numpy())\n",
    "print(\"L2RE: \", L2re.detach().cpu().numpy())\n",
    "print(\"MaxE: \", MaxE.detach().cpu().numpy())\n",
    "\n",
    "\n",
    "plt.figure(figsize=(4,3))\n",
    "plt.imshow(pred, extent=[-1,1,0.6,0], aspect='auto',  cmap='coolwarm')\n",
    "plt.xlabel('x')\n",
    "plt.ylabel('t')\n",
    "plt.title('Prediction')\n",
    "plt.colorbar()\n",
    "plt.tight_layout()\n",
    "plt.savefig('./image/test/pinn_pred.png')\n",
    "plt.show()\n",
    "\n",
    "# relative L1 error: 0.062007\n",
    "# relative L2 error: 0.137465\n",
    "# MSE:  0.010851512\n",
    "# RMSE:  0.035608176\n",
    "# L2RE:  0.4477824\n",
    "# MaxE:  0.12446113"
   ]
  },
  {
   "cell_type": "code",
   "execution_count": 9,
   "metadata": {},
   "outputs": [
    {
     "data": {
      "image/png": "[encoded data removed]",
      "text/plain": [
       "<Figure size 400x300 with 2 Axes>"
      ]
     },
     "metadata": {},
     "output_type": "display_data"
    }
   ],
   "source": [
    "plt.figure(figsize=(4,3))\n",
    "plt.imshow(u, extent=[-1,1,0.6,0], aspect='auto',  cmap='coolwarm')\n",
    "plt.xlabel('x')\n",
    "plt.ylabel('t')\n",
    "plt.title('Ground Truth')\n",
    "plt.colorbar()\n",
    "plt.tight_layout()\n",
    "plt.savefig('./image/burgers_exact.png')\n",
    "plt.show()"
   ]
  },
  {
   "cell_type": "code",
   "execution_count": 14,
   "metadata": {},
   "outputs": [
    {
     "data": {
      "image/png": "[encoded data removed]",
      "text/plain": [
       "<Figure size 400x300 with 2 Axes>"
      ]
     },
     "metadata": {},
     "output_type": "display_data"
    }
   ],
   "source": [
    "plt.figure(figsize=(4,3))\n",
    "plt.imshow(np.abs(u - pred), extent=[-1,1,0.6,0], aspect='auto',  cmap='coolwarm')\n",
    "plt.xlabel('x')\n",
    "plt.ylabel('t')\n",
    "plt.title('Absolute Error')\n",
    "plt.colorbar()\n",
    "plt.tight_layout()\n",
    "plt.savefig('./image/test/pinns_error.png')\n",
    "plt.show()"
   ]
  },
  {
   "cell_type": "markdown",
   "metadata": {},
   "source": []
  },
  {
   "cell_type": "code",
   "execution_count": 15,
   "metadata": {},
   "outputs": [
    {
     "name": "stdout",
     "output_type": "stream",
     "text": [
      "(101, 101)\n"
     ]
    },
    {
     "data": {
      "image/png": "[encoded data removed]",
      "text/plain": [
       "<Figure size 500x500 with 1 Axes>"
      ]
     },
     "metadata": {},
     "output_type": "display_data"
    }
   ],
   "source": [
    "# 绘制t时刻的折线图\n",
    "print(u.shape)\n",
    "import matplotlib.pyplot as plt\n",
    "import numpy as np\n",
    "\n",
    "# 假设的时间序列数据\n",
    "x = np.linspace(-1, 1, 101)\n",
    "u_real = u[-1, :]  # 实际值，例如使用正弦波\n",
    "u_pred = pred[-1, :]  # 预测值，添加一些噪声\n",
    "\n",
    "plt.figure(figsize=(5, 5))\n",
    "plt.plot(x, u_real, label='u_real', color='blue')  # 实际值曲线\n",
    "plt.plot(x, u_pred, label='u_pred', color='red', linestyle='--')  # 预测值曲线\n",
    "\n",
    "plt.title('t=0.6 s')\n",
    "plt.xlabel('x')\n",
    "plt.ylabel('u')\n",
    "plt.legend()\n",
    "plt.grid(False)\n",
    "plt.savefig('./image/test/pinns_0.6.png')\n",
    "plt.show()\n"
   ]
  }
 ],
 "metadata": {
  "kernelspec": {
   "display_name": "leo",
   "language": "python",
   "name": "python3"
  },
  "language_info": {
   "codemirror_mode": {
    "name": "ipython",
    "version": 3
   },
   "file_extension": ".py",
   "mimetype": "text/x-python",
   "name": "python",
   "nbconvert_exporter": "python",
   "pygments_lexer": "ipython3",
   "version": "3.8.18"
  },
  "orig_nbformat": 4
 },
 "nbformat": 4,
 "nbformat_minor": 2
}
