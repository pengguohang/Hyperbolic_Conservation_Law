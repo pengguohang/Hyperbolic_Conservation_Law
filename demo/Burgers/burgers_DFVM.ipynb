{
 "cells": [
  {
   "cell_type": "code",
   "execution_count": 1,
   "metadata": {},
   "outputs": [],
   "source": [
    "import numpy as np\n",
    "import torch\n",
    "import torch.nn as nn\n",
    "import matplotlib.pyplot as plt\n",
    "import random\n",
    "from torch.optim import LBFGS\n",
    "from tqdm import tqdm\n",
    "import scipy.io\n",
    "import sys\n",
    "import h5py\n",
    "from torch.optim import lr_scheduler\n",
    "\n",
    "\n",
    "sys.path.append(\"../../\")\n",
    "from metric import *\n",
    "from util import *\n",
    "from model.pinn import PINNs, MLP\n"
   ]
  },
  {
   "cell_type": "code",
   "execution_count": 2,
   "metadata": {},
   "outputs": [],
   "source": [
    "seed = 0\n",
    "np.random.seed(seed)\n",
    "random.seed(seed)\n",
    "torch.manual_seed(seed)\n",
    "torch.cuda.manual_seed(seed)\n",
    "\n",
    "device = torch.device(\"cuda:1\" if torch.cuda.is_available() else \"cpu\")\n",
    "\n",
    "def init_weights(m):\n",
    "    if isinstance(m, nn.Linear):\n",
    "        torch.nn.init.xavier_uniform(m.weight)\n",
    "        m.bias.data.fill_(0.01)"
   ]
  },
  {
   "cell_type": "code",
   "execution_count": 3,
   "metadata": {},
   "outputs": [
    {
     "name": "stdout",
     "output_type": "stream",
     "text": [
      "x_inL:  torch.Size([10201, 2])\n",
      "res shape:  torch.Size([10201, 2]) b_left shape:  torch.Size([101, 2]) b_right shape:  torch.Size([101, 2]) b_upper shape:  torch.Size([101, 2]) b_lower shape:  torch.Size([101, 2])\n"
     ]
    }
   ],
   "source": [
    "# get data\n",
    "# 几何区域：-1<=x<=1, 0<=t<=0.6\n",
    "# 均匀网格离散化：101*101\n",
    "# res: 所有散点坐标\n",
    "X_SIZE = 101\n",
    "T_SIZE = 101\n",
    "\n",
    "res, b_init, b_end, b_left, b_right = get_data([-1, 1], [0, 0.6], X_SIZE, T_SIZE) \n",
    "res_test, _, _, _, _ = get_data([-1, 1], [0, 0.6], X_SIZE, T_SIZE) \n",
    "\n",
    "res = torch.tensor(res, dtype=torch.float32, requires_grad=True).to(device)\n",
    "b_init = torch.tensor(b_init, dtype=torch.float32, requires_grad=True).to(device)  # init\n",
    "b_end = torch.tensor(b_end, dtype=torch.float32, requires_grad=True).to(device)\n",
    "b_left = torch.tensor(b_left, dtype=torch.float32, requires_grad=True).to(device)  # right\n",
    "b_right = torch.tensor(b_right, dtype=torch.float32, requires_grad=True).to(device)  # left\n",
    "\n",
    "# 分别提取散点的x t坐标 --> 列表\n",
    "x_res, t_res = res[:,0:1], res[:,1:2]\n",
    "x_init, t_init = b_init[:,0:1], b_init[:,1:2]\n",
    "x_end, t_end = b_end[:,0:1], b_end[:,1:2]\n",
    "x_left, t_left = b_left[:,0:1], b_left[:,1:2]\n",
    "x_right, t_right = b_right[:,0:1], b_right[:,1:2]\n",
    "\n",
    "# 有限体积采样边界点\n",
    "DFVM_solver = DFVMsolver(1, device)\n",
    "X_inL, X_inR = DFVM_solver.get_vol_data2(res)\n",
    "X_inL  = X_inL.requires_grad_(True).to(device)  # 内部点的CV边界采样点\n",
    "X_inR  = X_inR.requires_grad_(True).to(device)\n",
    "\n",
    "print('x_inL: ', X_inL.shape)\n",
    "\n",
    "print('res shape: ', res.shape, 'b_left shape: ', b_left.shape, 'b_right shape: ', b_right.shape, 'b_upper shape: ', b_init.shape, 'b_lower shape: ', b_end.shape)"
   ]
  },
  {
   "cell_type": "code",
   "execution_count": 4,
   "metadata": {},
   "outputs": [],
   "source": [
    "# # get data\n",
    "# filename = '1D_Burgers_Sols_Nu0.001.hdf5'\n",
    "# root_path = '/home/data2/PDEData/1D/Burgers/Train/'\n",
    "# data = PINNDataset1Dpde(filename, root_path=root_path, val_batch_idx=-1)\n",
    "\n",
    "# DFVM_solver = DFVMsolver(1, device)\n",
    "# X_inn = data.data_input\n",
    "# print(X_inn.shape)\n",
    "\n",
    "# choice = np.random.choice(np.arange(0, X_inn.shape[0]), 25600, replace=False)\n",
    "# X_inn = X_inn[choice, :]\n",
    "# X_inn  = X_inn.requires_grad_(True).to(device)  # 内部点坐标(x,t)\n",
    "# X_inL, X_inR = DFVM_solver.get_vol_data2(X_inn)\n",
    "# X_init, U_init = data.get_initial_condition()\n",
    "# X_bdL, U_bdL, X_bdR, U_bdR = data.get_boundary_condition()\n",
    "\n",
    "\n",
    "# X_inL  = X_inL.requires_grad_(True).to(device)  # 内部点的CV边界采样点\n",
    "# X_inR  = X_inR.requires_grad_(True).to(device)\n",
    "# X_init = X_init.requires_grad_(True).to(device)  # 初始点坐标(x,t)\n",
    "# X_bdL  = X_bdL.requires_grad_(True).to(device)  # 边界点坐标(x,t)\n",
    "# X_bdR  = X_bdR.requires_grad_(True).to(device)\n",
    "# U_bdL  = U_bdL.to(device)\n",
    "# U_bdR  = U_bdR.to(device)\n",
    "# U_init = U_init.to(device)\n",
    "\n",
    "# print('X_init: ', X_init.shape, X_init)\n",
    "# print('U_init: ', U_init.shape, U_init)\n",
    "\n",
    "\n",
    "# print('res shape: ', X_inn.shape, 'X_init shape: ', X_init.shape, 'X_bdL shape: ', X_bdL.shape, 'X_bdR shape: ', X_bdR.shape)\n",
    "# print('U_bdL shape: ', U_bdL.shape, 'U_bdR shape: ', U_bdR.shape, 'U_init shape: ', U_init.shape)"
   ]
  },
  {
   "cell_type": "code",
   "execution_count": 5,
   "metadata": {},
   "outputs": [],
   "source": [
    "# # Train PINNs -- MLP\n",
    "# model = MLP(in_channels=2, out_channels=1, hidden_width=20).to(device)\n",
    "\n",
    "# model.apply(init_weights)\n",
    "# # optim = LBFGS(model.parameters(), line_search_fn='strong_wolfe')\n",
    "# optim = torch.optim.Adam(model.parameters(), lr=1e-3, betas=(0.9, 0.999))\n",
    "# scheduler = lr_scheduler.ExponentialLR(optim, gamma=0.9, verbose=True)\n",
    "# step_size = 5000\n",
    "\n",
    "# print(model)\n",
    "# print(get_n_params(model))  # 总的参数量"
   ]
  },
  {
   "cell_type": "code",
   "execution_count": 6,
   "metadata": {},
   "outputs": [],
   "source": [
    "# loss_track = []\n",
    "# model.train()\n",
    "\n",
    "# def jacobian(y, x, i, j):\n",
    "#     '''\n",
    "#     input: y[], x[]\n",
    "#     '''\n",
    "#     y = y[:,i]\n",
    "#     grad = torch.autograd.grad(y, x, grad_outputs=torch.ones_like(y), create_graph=True, retain_graph=True)[0][:,j]  # y 相对于 x 的第 j 维的偏导数\n",
    "#     return grad.reshape(-1, 1)\n",
    "\n",
    "# def pde_burgers1D(x, model, nu):\n",
    "#     '''\n",
    "#     u_t + uu_x = 0\n",
    "#     u(0, x) = a + b*sin(cx) ？？？    周期边界条件\n",
    "\n",
    "#     input: x:[x, xL, xR] [内部点、CV左边界点、CV右边界点]\n",
    "#     '''\n",
    "#     x, xL, xR = x\n",
    "#     y = model(x)\n",
    "#     # print('in pde: ', y.shape, x.shape)\n",
    "#     dy_x = jacobian(y, x, i=0, j=0)\n",
    "#     dy_t = jacobian(y, x, i=0, j=1)\n",
    "#     yL = model(xL)\n",
    "#     yR = model(xR)\n",
    "#     dyR_x = jacobian(yR, xR, i=0, j=0)\n",
    "#     dyL_x = jacobian(yL, xL, i=0, j=0)\n",
    "#     res = (dy_t + y * dy_x)*0.0002 - nu*(dyR_x - dyL_x)  # 控制体积守恒性质\n",
    "    \n",
    "#     return res.reshape(-1, 1)\n",
    "\n",
    "# def loss_compute(model, X_inn, X_inL, X_inR, X_init, X_bdL, X_bdR, U_init, U_bdL, U_bdR, pde):\n",
    "#     # Y = model(X_inn)\n",
    "#     loss_res = torch.mean(pde((X_inn,X_inL,X_inR), model)**2)\n",
    "\n",
    "#     loss_ic = torch.mean((model(X_init) - U_init)**2)\n",
    "#     loss_bcL = torch.mean((model(X_bdL) - U_bdL)**2)\n",
    "#     loss_bcR = torch.mean((model(X_bdR) - U_bdR)**2)\n",
    "\n",
    "#     loss = loss_res + loss_ic + loss_bcL + loss_bcR\n",
    "\n",
    "#     return loss_res, loss_ic, loss_bcL, loss_bcR\n",
    "\n",
    "# pde = lambda x, model: pde_burgers1D(x, model, 0.001)\n",
    "# for i in tqdm(range(150000)):\n",
    "#     optim.zero_grad()\n",
    "#     loss_res, loss_ic, loss_bcL, loss_bcR = loss_compute(model, X_inn, X_inL, X_inR, X_init, X_bdL, X_bdR, U_init, U_bdL, U_bdR, pde)\n",
    "#     loss = loss_res + loss_ic + loss_bcL + loss_bcR\n",
    "    \n",
    "#     loss.backward()  # 反向传播\n",
    "\n",
    "#     optim.step()  # 参数更新\n",
    "\n",
    "#     if (i+1) % step_size == 0:\n",
    "#         scheduler.step()\n",
    "\n",
    "#     with torch.no_grad():\n",
    "#         loss_track.append([loss.item()])\n",
    "    \n",
    "#     if i % 5000 == 0:\n",
    "#         print('Iter %d, res: %.5e, Lossic: %.5e, LossL: %.5e, LossR: %.5e' % (i, loss_res.item(), loss_ic.item(), loss_bcL.item(), loss_bcR.item()))"
   ]
  },
  {
   "cell_type": "code",
   "execution_count": 7,
   "metadata": {},
   "outputs": [
    {
     "name": "stderr",
     "output_type": "stream",
     "text": [
      "/tmp/ipykernel_1408298/3342654418.py:11: UserWarning: nn.init.xavier_uniform is now deprecated in favor of nn.init.xavier_uniform_.\n",
      "  torch.nn.init.xavier_uniform(m.weight)\n"
     ]
    },
    {
     "name": "stdout",
     "output_type": "stream",
     "text": [
      "PINNs(\n",
      "  (linear): Sequential(\n",
      "    (0): Linear(in_features=2, out_features=512, bias=True)\n",
      "    (1): Tanh()\n",
      "    (2): Linear(in_features=512, out_features=512, bias=True)\n",
      "    (3): Tanh()\n",
      "    (4): Linear(in_features=512, out_features=512, bias=True)\n",
      "    (5): Tanh()\n",
      "    (6): Linear(in_features=512, out_features=1, bias=True)\n",
      "  )\n",
      ")\n",
      "527361\n"
     ]
    },
    {
     "name": "stderr",
     "output_type": "stream",
     "text": [
      "/home/pengguohang/anaconda3/envs/py3.8/lib/python3.8/site-packages/torch/optim/lr_scheduler.py:28: UserWarning: The verbose parameter is deprecated. Please use get_last_lr() to access the learning rate.\n",
      "  warnings.warn(\"The verbose parameter is deprecated. Please use get_last_lr() \"\n"
     ]
    }
   ],
   "source": [
    "# Train PINNs -- MLP\n",
    "model = PINNs(in_dim=2, hidden_dim=512, out_dim=1, num_layer=4).to(device)\n",
    "\n",
    "model.apply(init_weights)\n",
    "# optim = LBFGS(model.parameters(), line_search_fn='strong_wolfe')\n",
    "optim = torch.optim.Adam(model.parameters(), lr=1e-3, betas=(0.9, 0.999))\n",
    "scheduler = lr_scheduler.ExponentialLR(optim, gamma=0.9, verbose=True)\n",
    "\n",
    "print(model)\n",
    "print(get_n_params(model))  # 总的参数量"
   ]
  },
  {
   "cell_type": "code",
   "execution_count": 8,
   "metadata": {},
   "outputs": [
    {
     "name": "stderr",
     "output_type": "stream",
     "text": [
      "  0%|          | 3/100000 [00:00<3:52:02,  7.18it/s]"
     ]
    },
    {
     "name": "stdout",
     "output_type": "stream",
     "text": [
      "Iter 0, res: 3.83551e-10, Lossic: 1.18004e+00, LossL: 1.41438e+00, LossR: 1.29611e+00\n"
     ]
    },
    {
     "name": "stderr",
     "output_type": "stream",
     "text": [
      "  5%|▌         | 5003/100000 [06:09<1:58:29, 13.36it/s]"
     ]
    },
    {
     "name": "stdout",
     "output_type": "stream",
     "text": [
      "Iter 5000, res: 6.43894e-07, Lossic: 5.65332e-05, LossL: 1.29240e-05, LossR: 1.39236e-05\n"
     ]
    },
    {
     "name": "stderr",
     "output_type": "stream",
     "text": [
      " 10%|█         | 10003/100000 [12:23<1:51:51, 13.41it/s]"
     ]
    },
    {
     "name": "stdout",
     "output_type": "stream",
     "text": [
      "Iter 10000, res: 4.84291e-07, Lossic: 8.72072e-07, LossL: 3.41256e-10, LossR: 3.94729e-10\n"
     ]
    },
    {
     "name": "stderr",
     "output_type": "stream",
     "text": [
      " 15%|█▌        | 15003/100000 [18:42<1:45:01, 13.49it/s]"
     ]
    },
    {
     "name": "stdout",
     "output_type": "stream",
     "text": [
      "Iter 15000, res: 4.27807e-07, Lossic: 9.14971e-07, LossL: 7.27600e-07, LossR: 7.02763e-07\n"
     ]
    },
    {
     "name": "stderr",
     "output_type": "stream",
     "text": [
      " 20%|██        | 20003/100000 [25:01<1:42:02, 13.07it/s]"
     ]
    },
    {
     "name": "stdout",
     "output_type": "stream",
     "text": [
      "Iter 20000, res: 3.89129e-07, Lossic: 6.05786e-08, LossL: 1.81767e-10, LossR: 2.13498e-11\n"
     ]
    },
    {
     "name": "stderr",
     "output_type": "stream",
     "text": [
      " 25%|██▌       | 25003/100000 [31:20<1:34:31, 13.22it/s]"
     ]
    },
    {
     "name": "stdout",
     "output_type": "stream",
     "text": [
      "Iter 25000, res: 2.61403e-07, Lossic: 1.32115e-07, LossL: 2.51089e-10, LossR: 9.89011e-11\n"
     ]
    },
    {
     "name": "stderr",
     "output_type": "stream",
     "text": [
      " 30%|███       | 30003/100000 [37:40<1:28:14, 13.22it/s]"
     ]
    },
    {
     "name": "stdout",
     "output_type": "stream",
     "text": [
      "Iter 30000, res: 2.47764e-07, Lossic: 1.94539e-05, LossL: 1.98394e-05, LossR: 1.79754e-05\n"
     ]
    },
    {
     "name": "stderr",
     "output_type": "stream",
     "text": [
      " 35%|███▌      | 35003/100000 [44:03<1:24:59, 12.75it/s]"
     ]
    },
    {
     "name": "stdout",
     "output_type": "stream",
     "text": [
      "Iter 35000, res: 2.31679e-07, Lossic: 1.19890e-07, LossL: 2.18589e-09, LossR: 3.59326e-09\n"
     ]
    },
    {
     "name": "stderr",
     "output_type": "stream",
     "text": [
      " 40%|████      | 40003/100000 [50:24<1:15:06, 13.31it/s]"
     ]
    },
    {
     "name": "stdout",
     "output_type": "stream",
     "text": [
      "Iter 40000, res: 1.66552e-07, Lossic: 2.63811e-08, LossL: 8.02659e-10, LossR: 1.47602e-09\n"
     ]
    },
    {
     "name": "stderr",
     "output_type": "stream",
     "text": [
      " 45%|████▌     | 45003/100000 [56:45<1:08:25, 13.39it/s]"
     ]
    },
    {
     "name": "stdout",
     "output_type": "stream",
     "text": [
      "Iter 45000, res: 1.00193e-07, Lossic: 1.90393e-08, LossL: 1.22293e-10, LossR: 2.98497e-11\n"
     ]
    },
    {
     "name": "stderr",
     "output_type": "stream",
     "text": [
      " 50%|█████     | 50003/100000 [1:03:10<1:05:24, 12.74it/s]"
     ]
    },
    {
     "name": "stdout",
     "output_type": "stream",
     "text": [
      "Iter 50000, res: 9.87645e-08, Lossic: 1.98487e-09, LossL: 4.35835e-11, LossR: 2.29431e-10\n"
     ]
    },
    {
     "name": "stderr",
     "output_type": "stream",
     "text": [
      " 55%|█████▌    | 55003/100000 [1:09:28<1:00:19, 12.43it/s]"
     ]
    },
    {
     "name": "stdout",
     "output_type": "stream",
     "text": [
      "Iter 55000, res: 1.02431e-07, Lossic: 3.25187e-09, LossL: 7.57987e-10, LossR: 1.35869e-09\n"
     ]
    },
    {
     "name": "stderr",
     "output_type": "stream",
     "text": [
      " 60%|██████    | 60003/100000 [1:15:47<50:59, 13.07it/s]  "
     ]
    },
    {
     "name": "stdout",
     "output_type": "stream",
     "text": [
      "Iter 60000, res: 5.18617e-08, Lossic: 8.18886e-10, LossL: 6.04305e-11, LossR: 2.32319e-10\n"
     ]
    },
    {
     "name": "stderr",
     "output_type": "stream",
     "text": [
      " 65%|██████▌   | 65003/100000 [1:21:51<23:57, 24.34it/s]"
     ]
    },
    {
     "name": "stdout",
     "output_type": "stream",
     "text": [
      "Iter 65000, res: 5.48896e-08, Lossic: 6.62063e-09, LossL: 2.02948e-11, LossR: 1.54074e-10\n"
     ]
    },
    {
     "name": "stderr",
     "output_type": "stream",
     "text": [
      " 70%|███████   | 70004/100000 [1:25:17<20:35, 24.28it/s]"
     ]
    },
    {
     "name": "stdout",
     "output_type": "stream",
     "text": [
      "Iter 70000, res: 2.00118e-08, Lossic: 7.59489e-10, LossL: 6.81192e-12, LossR: 7.79167e-11\n"
     ]
    },
    {
     "name": "stderr",
     "output_type": "stream",
     "text": [
      " 75%|███████▌  | 75005/100000 [1:28:40<17:13, 24.18it/s]"
     ]
    },
    {
     "name": "stdout",
     "output_type": "stream",
     "text": [
      "Iter 75000, res: 9.08746e-09, Lossic: 2.23020e-10, LossL: 3.13873e-12, LossR: 1.97550e-11\n"
     ]
    },
    {
     "name": "stderr",
     "output_type": "stream",
     "text": [
      " 80%|████████  | 80006/100000 [1:32:03<13:21, 24.96it/s]"
     ]
    },
    {
     "name": "stdout",
     "output_type": "stream",
     "text": [
      "Iter 80000, res: 9.04234e-09, Lossic: 1.93746e-10, LossL: 1.17039e-12, LossR: 1.18501e-11\n"
     ]
    },
    {
     "name": "stderr",
     "output_type": "stream",
     "text": [
      " 85%|████████▌ | 85004/100000 [1:35:24<10:01, 24.94it/s]"
     ]
    },
    {
     "name": "stdout",
     "output_type": "stream",
     "text": [
      "Iter 85000, res: 1.67422e-09, Lossic: 1.53883e-10, LossL: 1.20581e-12, LossR: 1.45450e-12\n"
     ]
    },
    {
     "name": "stderr",
     "output_type": "stream",
     "text": [
      " 90%|█████████ | 90005/100000 [1:38:44<06:34, 25.33it/s]"
     ]
    },
    {
     "name": "stdout",
     "output_type": "stream",
     "text": [
      "Iter 90000, res: 1.59419e-09, Lossic: 5.56576e-10, LossL: 3.08461e-10, LossR: 3.06555e-10\n"
     ]
    },
    {
     "name": "stderr",
     "output_type": "stream",
     "text": [
      " 95%|█████████▌| 95006/100000 [1:42:02<03:18, 25.20it/s]"
     ]
    },
    {
     "name": "stdout",
     "output_type": "stream",
     "text": [
      "Iter 95000, res: 1.63510e-09, Lossic: 3.27229e-10, LossL: 7.49306e-13, LossR: 1.42344e-12\n"
     ]
    },
    {
     "name": "stderr",
     "output_type": "stream",
     "text": [
      "100%|██████████| 100000/100000 [1:45:20<00:00, 15.82it/s]\n"
     ]
    }
   ],
   "source": [
    "loss_track = []\n",
    "model.train()\n",
    "step_size = 5000\n",
    "\n",
    "def jacobian(y, x, i, j):\n",
    "    '''\n",
    "    input: y[], x[]\n",
    "    '''\n",
    "    y = y[:,i]\n",
    "    grad = torch.autograd.grad(y, x, grad_outputs=torch.ones_like(y), create_graph=True, retain_graph=True)[0][:,j]  # y 相对于 x 的第 j 维的偏导数\n",
    "    return grad.reshape(-1, 1)\n",
    "\n",
    "def pde_burgers1D(x, model, nu):\n",
    "    '''\n",
    "    u_t + uu_x = 0\n",
    "\n",
    "    input: x:[x, xL, xR] [内部点、CV左边界点、CV右边界点]\n",
    "    '''\n",
    "    x, t, xL, xR = x\n",
    "    y = model(x, t)\n",
    "    # print('in pde: ', y.shape, x.shape)\n",
    "    dy_x = jacobian(y, x, i=0, j=0)\n",
    "    dy_t = jacobian(y, t, i=0, j=0)\n",
    "    yL = model(xL[:, 0:1], t)\n",
    "    yR = model(xR[:, 0:1], t)\n",
    "    dyR_x = jacobian(yR, xR, i=0, j=0)\n",
    "    dyL_x = jacobian(yL, xL, i=0, j=0)\n",
    "    res = (dy_t + y * dy_x)*0.0002 - nu*(dyR_x - dyL_x)  # 控制体积守恒性质\n",
    "    \n",
    "    return res.reshape(-1, 1)\n",
    "\n",
    "\n",
    "pde = lambda x, model: pde_burgers1D(x, model, 0.001)\n",
    "for i in tqdm(range(100000)):\n",
    "    optim.zero_grad()\n",
    "    \n",
    "    pred_init = model(x_init, t_init)  # init\n",
    "    pred_left = model(x_left, t_left)  # right\n",
    "    pred_right = model(x_right, t_right)  # left\n",
    "    \n",
    "    loss_res = torch.mean(pde((x_res, t_res, X_inL,X_inR), model)**2)\n",
    "    # loss_ic = torch.mean(torch.where(x_init <= 0, (pred_init-1) ** 2, pred_init ** 2))  # 初值：u(x, 0) = 1, x<=0; u(x, 0) = 0, x>0\n",
    "    # loss_bcL = torch.mean((pred_left - 1) ** 2)\n",
    "    # loss_bcR = torch.mean((pred_right) ** 2)\n",
    "    # loss_bc = loss_bcL + loss_bcR\n",
    "    loss_ic = torch.mean(torch.where(x_init <= 0, (pred_init-1) ** 2, (pred_init+1) ** 2))\n",
    "    loss_bcL = torch.mean((pred_left - 1) ** 2)\n",
    "    loss_bcR = torch.mean((pred_right + 1) ** 2)\n",
    "    loss_bc = loss_bcL + loss_bcR\n",
    "\n",
    "    loss = loss_res + loss_ic + loss_bcL + loss_bcR\n",
    "    \n",
    "    loss.backward()  # 反向传播\n",
    "\n",
    "    optim.step()  # 参数更新\n",
    "\n",
    "    if (i+1) % step_size == 0:\n",
    "        scheduler.step()\n",
    "\n",
    "    with torch.no_grad():\n",
    "        loss_track.append([loss_res.item(), loss_bc.item(), loss_ic.item()])\n",
    "    \n",
    "    if i % 5000 == 0:\n",
    "        print('Iter %d, res: %.5e, Lossic: %.5e, LossL: %.5e, LossR: %.5e' % (i, loss_res.item(), loss_ic.item(), loss_bcL.item(), loss_bcR.item()))"
   ]
  },
  {
   "cell_type": "code",
   "execution_count": 9,
   "metadata": {},
   "outputs": [
    {
     "name": "stdout",
     "output_type": "stream",
     "text": [
      "Loss Res: 0.000000, Loss_BC: 0.000000, Loss_IC: 0.000000\n",
      "Train Loss: 0.000000\n"
     ]
    }
   ],
   "source": [
    "print('Loss Res: {:4f}, Loss_BC: {:4f}, Loss_IC: {:4f}'.format(loss_track[-1][0], loss_track[-1][1], loss_track[-1][2]))\n",
    "print('Train Loss: {:4f}'.format(np.sum(loss_track[-1])))"
   ]
  },
  {
   "cell_type": "code",
   "execution_count": 10,
   "metadata": {},
   "outputs": [],
   "source": [
    "# n_components = 1 \n",
    "# test_input, test_gt = data.get_test_data(\n",
    "#     n_last_time_steps=20, n_components=n_components\n",
    "# )\n",
    "# test_pred = model(test_input.to(device))\n",
    "\n",
    "# # prepare data for metrics eval\n",
    "# test_pred = data.unravel_tensor(\n",
    "#     test_pred, n_last_time_steps=20, n_components=n_components\n",
    "# ).detach().cpu()\n",
    "# test_gt = data.unravel_tensor(\n",
    "#     test_gt, n_last_time_steps=20, n_components=n_components\n",
    "# ).detach().cpu()\n",
    "\n",
    "# L2re = L2RE(test_gt, test_pred).mean()\n",
    "# MaxE = MaxError(test_gt, test_pred).mean()\n",
    "# Mse = MSE(test_gt, test_pred).mean()\n",
    "# Rmse = RMSE(test_gt, test_pred).mean()\n",
    "# print(\"MSE: \", Mse.detach().cpu().numpy())\n",
    "# print(\"rMSE: \", Rmse.detach().cpu().numpy())\n",
    "# print(\"L2RE: \", L2re.detach().cpu().numpy())\n",
    "# print(\"MaxE: \", MaxE.detach().cpu().numpy())\n"
   ]
  },
  {
   "cell_type": "code",
   "execution_count": 21,
   "metadata": {},
   "outputs": [
    {
     "name": "stderr",
     "output_type": "stream",
     "text": [
      "/tmp/ipykernel_1408298/1153080274.py:2: UserWarning: To copy construct from a tensor, it is recommended to use sourceTensor.clone().detach() or sourceTensor.clone().detach().requires_grad_(True), rather than torch.tensor(sourceTensor).\n",
      "  res_test = torch.tensor(res_test, dtype=torch.float32, requires_grad=True).to(device)\n"
     ]
    },
    {
     "name": "stdout",
     "output_type": "stream",
     "text": [
      "(101, 101)\n",
      "relative L1 error: 0.002166\n",
      "relative L2 error: 0.007533\n",
      "MSE:  5.6748355e-05\n",
      "RMSE:  0.002166334\n",
      "L2RE:  0.0022250102\n",
      "MaxE:  0.004051802\n"
     ]
    },
    {
     "data": {
      "image/png": "[encoded data removed]",
      "text/plain": [
       "<Figure size 400x300 with 2 Axes>"
      ]
     },
     "metadata": {},
     "output_type": "display_data"
    }
   ],
   "source": [
    "# Visualize PINNs \n",
    "res_test = torch.tensor(res_test, dtype=torch.float32, requires_grad=True).to(device)\n",
    "x_test, t_test = res_test[:,0:1], res_test[:,1:2]\n",
    "\n",
    "mat = scipy.io.loadmat('./burgers.mat')\n",
    "u = mat['u'].reshape(X_SIZE, T_SIZE)\n",
    "\n",
    "with torch.no_grad():\n",
    "    pred = model(x_test, t_test)[:,0:1]\n",
    "    pred = pred.cpu().detach().numpy()\n",
    "pred = pred.reshape(X_SIZE, T_SIZE)\n",
    "\n",
    "print(pred.shape)\n",
    "\n",
    "rl1 = np.sum(np.abs(u-pred)) / np.sum(np.abs(u))\n",
    "rl2 = np.sqrt(np.sum((u-pred)**2) / np.sum(u**2))\n",
    "print('relative L1 error: {:4f}'.format(rl1))\n",
    "print('relative L2 error: {:4f}'.format(rl2))\n",
    "\n",
    "L2re = L2RE(torch.tensor(u), torch.tensor(pred)).mean()\n",
    "MaxE = MaxError(torch.tensor(u), torch.tensor(pred)).mean()\n",
    "Mse = MSE(torch.tensor(u), torch.tensor(pred)).mean()\n",
    "Rmse = RMSE(torch.tensor(u), torch.tensor(pred)).mean()\n",
    "print(\"MSE: \", Mse.detach().cpu().numpy())\n",
    "print(\"RMSE: \", Rmse.detach().cpu().numpy())\n",
    "print(\"L2RE: \", L2re.detach().cpu().numpy())\n",
    "print(\"MaxE: \", MaxE.detach().cpu().numpy())\n",
    "\n",
    "\n",
    "plt.figure(figsize=(4,3))\n",
    "plt.imshow(pred, extent=[-1,1,0.6,0], aspect='auto',  cmap='coolwarm')\n",
    "plt.xlabel('x')\n",
    "plt.ylabel('t')\n",
    "plt.title('Prediction')\n",
    "plt.colorbar()\n",
    "plt.tight_layout()\n",
    "plt.savefig('./image/test/dfvm_pred.png')\n",
    "plt.show()"
   ]
  },
  {
   "cell_type": "code",
   "execution_count": 18,
   "metadata": {},
   "outputs": [
    {
     "data": {
      "image/png": "[encoded data removed]",
      "text/plain": [
       "<Figure size 400x300 with 2 Axes>"
      ]
     },
     "metadata": {},
     "output_type": "display_data"
    }
   ],
   "source": [
    "plt.figure(figsize=(4,3))\n",
    "plt.imshow(u, extent=[-1, 1, 0.6, 0], aspect='auto',  cmap='coolwarm')\n",
    "plt.xlabel('x')\n",
    "plt.ylabel('t')\n",
    "plt.title('Exact u(x,t)')\n",
    "plt.colorbar()\n",
    "plt.tight_layout()\n",
    "plt.savefig('./image/exact.png')\n",
    "plt.show()"
   ]
  },
  {
   "cell_type": "code",
   "execution_count": 22,
   "metadata": {},
   "outputs": [
    {
     "data": {
      "image/png": "[encoded data removed]",
      "text/plain": [
       "<Figure size 400x300 with 2 Axes>"
      ]
     },
     "metadata": {},
     "output_type": "display_data"
    }
   ],
   "source": [
    "plt.figure(figsize=(4,3))\n",
    "plt.imshow(np.abs(pred - u), extent=[-1, 1, 0, 0.6], aspect='auto',  cmap='coolwarm')\n",
    "plt.xlabel('x')\n",
    "plt.ylabel('t')\n",
    "plt.title('Absolute Error')\n",
    "plt.colorbar()\n",
    "plt.tight_layout()\n",
    "plt.savefig('./image/test/dfvm_error.png')\n",
    "plt.show()"
   ]
  },
  {
   "cell_type": "code",
   "execution_count": 23,
   "metadata": {},
   "outputs": [
    {
     "name": "stdout",
     "output_type": "stream",
     "text": [
      "(101, 101)\n"
     ]
    },
    {
     "data": {
      "image/png": "[encoded data removed]",
      "text/plain": [
       "<Figure size 500x500 with 1 Axes>"
      ]
     },
     "metadata": {},
     "output_type": "display_data"
    }
   ],
   "source": [
    "# 绘制t时刻的折线图\n",
    "print(u.shape)\n",
    "import matplotlib.pyplot as plt\n",
    "import numpy as np\n",
    "\n",
    "# 假设的时间序列数据\n",
    "x = np.linspace(-1, 1, 101)\n",
    "u_real = u[-1, :]  # 实际值，例如使用正弦波\n",
    "u_pred = pred[-1, :]  # 预测值，添加一些噪声\n",
    "\n",
    "plt.figure(figsize=(5, 5))\n",
    "plt.plot(x, u_real, label='u_real', color='blue')  # 实际值曲线\n",
    "plt.plot(x, u_pred, label='u_pred', color='red', linestyle='--')  # 预测值曲线\n",
    "\n",
    "plt.title('t=0.6 s')\n",
    "plt.xlabel('x')\n",
    "plt.ylabel('u')\n",
    "plt.legend()\n",
    "plt.grid(False)\n",
    "plt.savefig('./image/test/dfvm_0.6.png')\n",
    "plt.show()\n"
   ]
  }
 ],
 "metadata": {
  "kernelspec": {
   "display_name": "leo",
   "language": "python",
   "name": "python3"
  },
  "language_info": {
   "codemirror_mode": {
    "name": "ipython",
    "version": 3
   },
   "file_extension": ".py",
   "mimetype": "text/x-python",
   "name": "python",
   "nbconvert_exporter": "python",
   "pygments_lexer": "ipython3",
   "version": "3.8.18"
  },
  "orig_nbformat": 4
 },
 "nbformat": 4,
 "nbformat_minor": 2
}
